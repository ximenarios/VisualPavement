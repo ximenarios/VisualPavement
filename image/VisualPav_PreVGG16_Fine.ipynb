{
 "cells": [
  {
   "cell_type": "code",
   "execution_count": 1,
   "metadata": {},
   "outputs": [],
   "source": [
    "#########################################################################\n",
    "# Red convolucional preentrenada\n",
    "# Usando Ajuste Fino (fine-tuning)\n",
    "#########################################################################\n",
    "# Descongelar las capas superiores de la base convolucional y congelar las restantes\n",
    "# Entrenar conjuntamente la parte recién agregada del modelo y las capas superiores\n",
    "# Ajusta ligeramente las representaciones más abstractas del modelo que se está \n",
    "# reutilizando, para que sean más relevantes para el problema en cuestión\n",
    "# Realizado por Ximena Rios- Universidad del Valle\n",
    "#########################################################################"
   ]
  },
  {
   "cell_type": "code",
   "execution_count": 16,
   "metadata": {},
   "outputs": [],
   "source": [
    "#Parametros generales\n",
    "IMG_ALTO = 150\n",
    "IMG_ANCHO =150\n",
    "LOTE_SIZE = 20 #tamaño de los lotes de datos\n",
    "\n",
    "#Definir los directorios de trabajo \n",
    "import os\n",
    "train_dir = os.getcwd() + '/base_datos/train/'\n",
    "validacion_dir= os.getcwd() + '/base_datos/validacion/'\n",
    "test_dir = os.getcwd() + '/base_datos/test/'\n",
    "\n",
    "#Definir el nombre para guardar el modelos y los datos \n",
    "#nombre='Xception'\n",
    "nombre='VGG16'\n",
    "#nombre='VGG19'\n",
    "#nombre='ResNet'\n",
    "#nombre='ResNetV2'\n",
    "#nombre='InceptionV3'\n",
    "#nombre='InceptionResNetV2'\n",
    "#nombre='MobileNet'\n",
    "#nombre='MobileNetV2'\n",
    "#nombre='DenseNet121'\n",
    "#nombre='NASNet'"
   ]
  },
  {
   "cell_type": "code",
   "execution_count": 3,
   "metadata": {},
   "outputs": [
    {
     "name": "stderr",
     "output_type": "stream",
     "text": [
      "Using TensorFlow backend.\n"
     ]
    }
   ],
   "source": [
    "#crear una instancia de la base convolucional  \n",
    "#from keras.applications import Xception\n",
    "from keras.applications import VGG16\n",
    "#from keras.applications import VGG19\n",
    "#from keras.applications import ResNet\n",
    "#from keras.applications import ResNetV2\n",
    "#from keras.applications import InceptionV3\n",
    "#from keras.applications import InceptionResNetV2\n",
    "#from keras.applications import MobileNet\n",
    "#from keras.applications import MobileNetV2\n",
    "#from keras.applications import DenseNet121\n",
    "#from keras.applications import NASNet\n",
    "\n",
    "#conv_base = Xception(\n",
    "conv_base = VGG16(\n",
    "#conv_base = VGG16(weights='imagenet',  #punto de control de peso inicializar el modelo\n",
    "#conv_base = VGG19(\n",
    "#conv_base = ResNet(\n",
    "#conv_base = ResNetV2(\n",
    "#conv_base = InceptionV3(\n",
    "#conv_base = InceptionResNetV2(\n",
    "#conv_base = MobileNet(\n",
    "#conv_base = MobileNetV2(\n",
    "#conv_base = DenseNet121(\n",
    "#conv_base = NASNet(\n",
    "    include_top=False, #incluir o no la red densamente conectada\n",
    "    input_shape=(150, 150, 3)) #forma del tensor de entrada\n",
    "#https://keras.io/applications/"
   ]
  },
  {
   "cell_type": "code",
   "execution_count": 4,
   "metadata": {},
   "outputs": [],
   "source": [
    "#Adicionar una capa densamente conectada al final de la base convolucional\n",
    "from keras import models\n",
    "from keras import layers\n",
    "model = models.Sequential()\n",
    "model.add(conv_base)\n",
    "model.add(layers.Flatten())\n",
    "model.add(layers.Dense(256, activation='relu'))\n",
    "model.add(layers.Dropout(0.5))\n",
    "model.add(layers.Dense(15, activation='softmax')) \n",
    "#capa densa de tamaño 15. para cada entrada la red saca un vector de 15 dimensiones. cada entrada en este vector codifica una clase diferente de salida \n",
    "# activacion softmax significa que la red puede sacar una distribucion de probabilidad sobre 15 diferentes clases de salida"
   ]
  },
  {
   "cell_type": "code",
   "execution_count": 5,
   "metadata": {},
   "outputs": [
    {
     "name": "stdout",
     "output_type": "stream",
     "text": [
      "_________________________________________________________________\n",
      "Layer (type)                 Output Shape              Param #   \n",
      "=================================================================\n",
      "vgg16 (Model)                (None, 4, 4, 512)         14714688  \n",
      "_________________________________________________________________\n",
      "flatten_1 (Flatten)          (None, 8192)              0         \n",
      "_________________________________________________________________\n",
      "dense_1 (Dense)              (None, 256)               2097408   \n",
      "_________________________________________________________________\n",
      "dropout_1 (Dropout)          (None, 256)               0         \n",
      "_________________________________________________________________\n",
      "dense_2 (Dense)              (None, 15)                3855      \n",
      "=================================================================\n",
      "Total params: 16,815,951\n",
      "Trainable params: 16,815,951\n",
      "Non-trainable params: 0\n",
      "_________________________________________________________________\n"
     ]
    }
   ],
   "source": [
    "model.summary()"
   ]
  },
  {
   "cell_type": "code",
   "execution_count": 6,
   "metadata": {},
   "outputs": [],
   "source": [
    "# Congelar la base convolucional\n",
    "#print('Este es numero de pesos entrenables antes de congelar la conv_base:', len(model.trainable_weights))\n",
    "conv_base.trainable = False\n",
    "#print('Este es numero de pesos entrenables despues de congelar la conv_base:', len(model.trainable_weights))"
   ]
  },
  {
   "cell_type": "code",
   "execution_count": 7,
   "metadata": {},
   "outputs": [],
   "source": [
    "#Crear una instancia de la clase ImageDataGenerator para el aumento de datos\n",
    "from keras.preprocessing.image import ImageDataGenerator\n",
    "train_datagen = ImageDataGenerator(\n",
    "    rescale=1./255, # Todas las imágenes serán reescaladas por 1./255\n",
    "    width_shift_range=0.2, #son rangos(una fraccion del total) dentro de los cuales se puede trasladar una figura aleatoreamente\n",
    "    height_shift_range=0.2,\n",
    "    #shear_range=0.2,\n",
    "    zoom_range=0.2,\n",
    "    horizontal_flip=True,#Voltear aleatoriamente las entradas horizontalmente\n",
    "    vertical_flip=True, \n",
    "    fill_mode='nearest') #nearest #reflect constant\n",
    "#Note que los datos de validacion no deben ser aumentados!!!\n",
    "test_datagen = ImageDataGenerator(rescale=1./255)\n",
    "#https://www.tensorflow.org/api_docs/python/tf/keras/preprocessing/image/ImageDataGenerator?version=stable"
   ]
  },
  {
   "cell_type": "code",
   "execution_count": 8,
   "metadata": {},
   "outputs": [
    {
     "name": "stdout",
     "output_type": "stream",
     "text": [
      "Found 4664 images belonging to 15 classes.\n",
      "Found 591 images belonging to 15 classes.\n"
     ]
    }
   ],
   "source": [
    "#Generar datos por el metodo flow_from_directory de la clase ImageDataGenerator\n",
    "#Datos de entrenamiento\n",
    "train_generator = train_datagen.flow_from_directory(\n",
    "    train_dir, #directorio de trabajo\n",
    "    target_size=(150, 150), # Tamaño de las imágenes (serán redimensionadas)\n",
    "    batch_size=20, #Tamaño de los lotes de datos (cantidad de imagenes generadas)\n",
    "    class_mode='categorical')# Como usamos la funcion depérdida categorical_crossentropy, necesitamos etiquetas categorical\n",
    "    #categorical--> will be 2D one-hot encoded labels\n",
    "    #produce lotes de imágenes RGB de 150x150 (forma (20, 150, 150, 3)) y etiquetas 2D one-hot  (forma (20,))\n",
    "#Datos de validacion\n",
    "validation_generator = test_datagen.flow_from_directory(\n",
    "    validacion_dir,\n",
    "    target_size=(150, 150),\n",
    "    batch_size=20,\n",
    "    class_mode='categorical')"
   ]
  },
  {
   "cell_type": "code",
   "execution_count": 9,
   "metadata": {},
   "outputs": [],
   "source": [
    "#compilar\n",
    "from keras import optimizers\n",
    "model.compile(optimizer='rmsprop',\n",
    "    loss='categorical_crossentropy', #funcion de activacion para clasificacion multiclase\n",
    "    metrics=['acc'])  #categorical_crossentropy, espera que las etiquetas sigan una codificación categórica\n",
    "    #categorical--> will be 2D one-hot encoded labels\n",
    "\n",
    "#model.compile(loss='categorical_crossentropy',\n",
    "#    optimizer=optimizers.RMSprop(lr=2e-5),\n",
    "#    metrics=['acc'])"
   ]
  },
  {
   "cell_type": "code",
   "execution_count": 10,
   "metadata": {},
   "outputs": [
    {
     "name": "stdout",
     "output_type": "stream",
     "text": [
      "Epoch 1/30\n",
      "100/100 [==============================] - 27s 270ms/step - loss: 2.5772 - acc: 0.2160 - val_loss: 2.0838 - val_acc: 0.3340\n",
      "Epoch 2/30\n",
      "100/100 [==============================] - 27s 268ms/step - loss: 2.2570 - acc: 0.2820 - val_loss: 1.9102 - val_acc: 0.3717\n",
      "Epoch 3/30\n",
      "100/100 [==============================] - 27s 272ms/step - loss: 2.1038 - acc: 0.3330 - val_loss: 1.8928 - val_acc: 0.4012\n",
      "Epoch 4/30\n",
      "100/100 [==============================] - 26s 256ms/step - loss: 2.0437 - acc: 0.3465 - val_loss: 1.7335 - val_acc: 0.4016\n",
      "Epoch 5/30\n",
      "100/100 [==============================] - 24s 241ms/step - loss: 1.9512 - acc: 0.3780 - val_loss: 1.6207 - val_acc: 0.4969\n",
      "Epoch 6/30\n",
      "100/100 [==============================] - 29s 290ms/step - loss: 1.9289 - acc: 0.3930 - val_loss: 1.6802 - val_acc: 0.4633\n",
      "Epoch 7/30\n",
      "100/100 [==============================] - 25s 246ms/step - loss: 1.9695 - acc: 0.3870 - val_loss: 1.5247 - val_acc: 0.5106\n",
      "Epoch 8/30\n",
      "100/100 [==============================] - 29s 286ms/step - loss: 1.8619 - acc: 0.4080 - val_loss: 1.6909 - val_acc: 0.4745\n",
      "Epoch 9/30\n",
      "100/100 [==============================] - 26s 261ms/step - loss: 1.8844 - acc: 0.4010 - val_loss: 1.6029 - val_acc: 0.5234\n",
      "Epoch 10/30\n",
      "100/100 [==============================] - 27s 272ms/step - loss: 1.8576 - acc: 0.4130 - val_loss: 1.4948 - val_acc: 0.5449\n",
      "Epoch 11/30\n",
      "100/100 [==============================] - 28s 275ms/step - loss: 1.7696 - acc: 0.4330 - val_loss: 1.4849 - val_acc: 0.5580\n",
      "Epoch 12/30\n",
      "100/100 [==============================] - 25s 247ms/step - loss: 1.8353 - acc: 0.4185 - val_loss: 1.5128 - val_acc: 0.5346\n",
      "Epoch 13/30\n",
      "100/100 [==============================] - 26s 259ms/step - loss: 1.7873 - acc: 0.4515 - val_loss: 1.5148 - val_acc: 0.5207\n",
      "Epoch 14/30\n",
      "100/100 [==============================] - 27s 271ms/step - loss: 1.8330 - acc: 0.4230 - val_loss: 1.4772 - val_acc: 0.5387\n",
      "Epoch 15/30\n",
      "100/100 [==============================] - 28s 283ms/step - loss: 1.7692 - acc: 0.4405 - val_loss: 1.3797 - val_acc: 0.5794\n",
      "Epoch 16/30\n",
      "100/100 [==============================] - 25s 251ms/step - loss: 1.7765 - acc: 0.4380 - val_loss: 1.4442 - val_acc: 0.5742\n",
      "Epoch 17/30\n",
      "100/100 [==============================] - 27s 270ms/step - loss: 1.7936 - acc: 0.4470 - val_loss: 1.5343 - val_acc: 0.5224\n",
      "Epoch 18/30\n",
      "100/100 [==============================] - 26s 255ms/step - loss: 1.7949 - acc: 0.4465 - val_loss: 1.4101 - val_acc: 0.5876\n",
      "Epoch 19/30\n",
      "100/100 [==============================] - 26s 263ms/step - loss: 1.7641 - acc: 0.4515 - val_loss: 1.4213 - val_acc: 0.5580\n",
      "Epoch 20/30\n",
      "100/100 [==============================] - 25s 255ms/step - loss: 1.7412 - acc: 0.4640 - val_loss: 1.3435 - val_acc: 0.5906\n",
      "Epoch 21/30\n",
      "100/100 [==============================] - 25s 250ms/step - loss: 1.7834 - acc: 0.4410 - val_loss: 1.5044 - val_acc: 0.5418\n",
      "Epoch 22/30\n",
      "100/100 [==============================] - 27s 275ms/step - loss: 1.7335 - acc: 0.4685 - val_loss: 1.3557 - val_acc: 0.5964\n",
      "Epoch 23/30\n",
      "100/100 [==============================] - 27s 267ms/step - loss: 1.6903 - acc: 0.4560 - val_loss: 1.6620 - val_acc: 0.5234\n",
      "Epoch 24/30\n",
      "100/100 [==============================] - 26s 259ms/step - loss: 1.7716 - acc: 0.4565 - val_loss: 1.3879 - val_acc: 0.5642\n",
      "Epoch 25/30\n",
      "100/100 [==============================] - 26s 259ms/step - loss: 1.7881 - acc: 0.4505 - val_loss: 1.3262 - val_acc: 0.5792\n",
      "Epoch 26/30\n",
      "100/100 [==============================] - 26s 263ms/step - loss: 1.7186 - acc: 0.4550 - val_loss: 1.3373 - val_acc: 0.5876\n",
      "Epoch 27/30\n",
      "100/100 [==============================] - 27s 272ms/step - loss: 1.6945 - acc: 0.4795 - val_loss: 1.3346 - val_acc: 0.5957\n",
      "Epoch 28/30\n",
      "100/100 [==============================] - 25s 252ms/step - loss: 1.6864 - acc: 0.4810 - val_loss: 1.4774 - val_acc: 0.5721\n",
      "Epoch 29/30\n",
      "100/100 [==============================] - 27s 274ms/step - loss: 1.7465 - acc: 0.4660 - val_loss: 1.3267 - val_acc: 0.5957\n",
      "Epoch 30/30\n",
      "100/100 [==============================] - 26s 262ms/step - loss: 1.7383 - acc: 0.4500 - val_loss: 1.3659 - val_acc: 0.5845\n"
     ]
    }
   ],
   "source": [
    "#Entrenar la red\n",
    "history = model.fit_generator(\n",
    "    train_generator,\n",
    "    steps_per_epoch=100,\n",
    "    epochs=30,\n",
    "    validation_data=validation_generator,\n",
    "    validation_steps=50)"
   ]
  },
  {
   "cell_type": "code",
   "execution_count": 11,
   "metadata": {},
   "outputs": [],
   "source": [
    "#Descongelar la red\n",
    "conv_base.trainable = True"
   ]
  },
  {
   "cell_type": "code",
   "execution_count": 12,
   "metadata": {},
   "outputs": [
    {
     "name": "stdout",
     "output_type": "stream",
     "text": [
      "_________________________________________________________________\n",
      "Layer (type)                 Output Shape              Param #   \n",
      "=================================================================\n",
      "input_1 (InputLayer)         (None, 150, 150, 3)       0         \n",
      "_________________________________________________________________\n",
      "block1_conv1 (Conv2D)        (None, 150, 150, 64)      1792      \n",
      "_________________________________________________________________\n",
      "block1_conv2 (Conv2D)        (None, 150, 150, 64)      36928     \n",
      "_________________________________________________________________\n",
      "block1_pool (MaxPooling2D)   (None, 75, 75, 64)        0         \n",
      "_________________________________________________________________\n",
      "block2_conv1 (Conv2D)        (None, 75, 75, 128)       73856     \n",
      "_________________________________________________________________\n",
      "block2_conv2 (Conv2D)        (None, 75, 75, 128)       147584    \n",
      "_________________________________________________________________\n",
      "block2_pool (MaxPooling2D)   (None, 37, 37, 128)       0         \n",
      "_________________________________________________________________\n",
      "block3_conv1 (Conv2D)        (None, 37, 37, 256)       295168    \n",
      "_________________________________________________________________\n",
      "block3_conv2 (Conv2D)        (None, 37, 37, 256)       590080    \n",
      "_________________________________________________________________\n",
      "block3_conv3 (Conv2D)        (None, 37, 37, 256)       590080    \n",
      "_________________________________________________________________\n",
      "block3_pool (MaxPooling2D)   (None, 18, 18, 256)       0         \n",
      "_________________________________________________________________\n",
      "block4_conv1 (Conv2D)        (None, 18, 18, 512)       1180160   \n",
      "_________________________________________________________________\n",
      "block4_conv2 (Conv2D)        (None, 18, 18, 512)       2359808   \n",
      "_________________________________________________________________\n",
      "block4_conv3 (Conv2D)        (None, 18, 18, 512)       2359808   \n",
      "_________________________________________________________________\n",
      "block4_pool (MaxPooling2D)   (None, 9, 9, 512)         0         \n",
      "_________________________________________________________________\n",
      "block5_conv1 (Conv2D)        (None, 9, 9, 512)         2359808   \n",
      "_________________________________________________________________\n",
      "block5_conv2 (Conv2D)        (None, 9, 9, 512)         2359808   \n",
      "_________________________________________________________________\n",
      "block5_conv3 (Conv2D)        (None, 9, 9, 512)         2359808   \n",
      "_________________________________________________________________\n",
      "block5_pool (MaxPooling2D)   (None, 4, 4, 512)         0         \n",
      "=================================================================\n",
      "Total params: 14,714,688\n",
      "Trainable params: 14,714,688\n",
      "Non-trainable params: 0\n",
      "_________________________________________________________________\n"
     ]
    }
   ],
   "source": [
    "conv_base.summary()"
   ]
  },
  {
   "cell_type": "code",
   "execution_count": 13,
   "metadata": {},
   "outputs": [],
   "source": [
    "#Congelar todas las capas hasta una específica\n",
    "set_trainable = False\n",
    "for layer in conv_base.layers:\n",
    "    if layer.name == 'block5_conv1':\n",
    "        set_trainable = True\n",
    "    if set_trainable:\n",
    "        layer.trainable = True\n",
    "    else:\n",
    "        layer.trainable = False"
   ]
  },
  {
   "cell_type": "code",
   "execution_count": 14,
   "metadata": {},
   "outputs": [],
   "source": [
    "#compilar\n",
    "model.compile(loss='categorical_crossentropy', #funcion de activacion para clasificacion multiclase\n",
    "    optimizer=optimizers.RMSprop(lr=1e-5),\n",
    "    metrics=['acc'])"
   ]
  },
  {
   "cell_type": "code",
   "execution_count": 15,
   "metadata": {},
   "outputs": [
    {
     "name": "stdout",
     "output_type": "stream",
     "text": [
      "Epoch 1/100\n",
      "100/100 [==============================] - 28s 279ms/step - loss: 1.6544 - acc: 0.4875 - val_loss: 1.2400 - val_acc: 0.6226\n",
      "Epoch 2/100\n",
      "100/100 [==============================] - 27s 273ms/step - loss: 1.6002 - acc: 0.5060 - val_loss: 1.2105 - val_acc: 0.6191\n",
      "Epoch 3/100\n",
      "100/100 [==============================] - 26s 259ms/step - loss: 1.5605 - acc: 0.5215 - val_loss: 1.2574 - val_acc: 0.6100\n",
      "Epoch 4/100\n",
      "100/100 [==============================] - 25s 252ms/step - loss: 1.6063 - acc: 0.5055 - val_loss: 1.2439 - val_acc: 0.6398\n",
      "Epoch 5/100\n",
      "100/100 [==============================] - 27s 266ms/step - loss: 1.5325 - acc: 0.5115 - val_loss: 1.2178 - val_acc: 0.6242\n",
      "Epoch 6/100\n",
      "100/100 [==============================] - 25s 247ms/step - loss: 1.5031 - acc: 0.5315 - val_loss: 1.2329 - val_acc: 0.6314\n",
      "Epoch 7/100\n",
      "100/100 [==============================] - 27s 266ms/step - loss: 1.4685 - acc: 0.5410 - val_loss: 1.1808 - val_acc: 0.6609\n",
      "Epoch 8/100\n",
      "100/100 [==============================] - 28s 283ms/step - loss: 1.4725 - acc: 0.5350 - val_loss: 1.1538 - val_acc: 0.6456\n",
      "Epoch 9/100\n",
      "100/100 [==============================] - 25s 251ms/step - loss: 1.4464 - acc: 0.5535 - val_loss: 1.1657 - val_acc: 0.6426\n",
      "Epoch 10/100\n",
      "100/100 [==============================] - 27s 270ms/step - loss: 1.4411 - acc: 0.5505 - val_loss: 1.2218 - val_acc: 0.6287\n",
      "Epoch 11/100\n",
      "100/100 [==============================] - 25s 251ms/step - loss: 1.3938 - acc: 0.5715 - val_loss: 1.1540 - val_acc: 0.6660\n",
      "Epoch 12/100\n",
      "100/100 [==============================] - 25s 253ms/step - loss: 1.4879 - acc: 0.5310 - val_loss: 1.1891 - val_acc: 0.6466\n",
      "Epoch 13/100\n",
      "100/100 [==============================] - 28s 281ms/step - loss: 1.4761 - acc: 0.5390 - val_loss: 1.1818 - val_acc: 0.6498\n",
      "Epoch 14/100\n",
      "100/100 [==============================] - 26s 257ms/step - loss: 1.3892 - acc: 0.5650 - val_loss: 1.1882 - val_acc: 0.6680\n",
      "Epoch 15/100\n",
      "100/100 [==============================] - 28s 281ms/step - loss: 1.4163 - acc: 0.5390 - val_loss: 1.1597 - val_acc: 0.6527\n",
      "Epoch 16/100\n",
      "100/100 [==============================] - 25s 246ms/step - loss: 1.3523 - acc: 0.5775 - val_loss: 1.1602 - val_acc: 0.6599\n",
      "Epoch 17/100\n",
      "100/100 [==============================] - 27s 272ms/step - loss: 1.4193 - acc: 0.5580 - val_loss: 1.0838 - val_acc: 0.6904\n",
      "Epoch 18/100\n",
      "100/100 [==============================] - 26s 258ms/step - loss: 1.3518 - acc: 0.5855 - val_loss: 1.1715 - val_acc: 0.6517\n",
      "Epoch 19/100\n",
      "100/100 [==============================] - 25s 248ms/step - loss: 1.3161 - acc: 0.5900 - val_loss: 1.1173 - val_acc: 0.6862\n",
      "Epoch 20/100\n",
      "100/100 [==============================] - 28s 278ms/step - loss: 1.3593 - acc: 0.5820 - val_loss: 1.1219 - val_acc: 0.6752\n",
      "Epoch 21/100\n",
      "100/100 [==============================] - 25s 245ms/step - loss: 1.3015 - acc: 0.5985 - val_loss: 1.0971 - val_acc: 0.6782\n",
      "Epoch 22/100\n",
      "100/100 [==============================] - 27s 274ms/step - loss: 1.3264 - acc: 0.5860 - val_loss: 1.1097 - val_acc: 0.6811\n",
      "Epoch 23/100\n",
      "100/100 [==============================] - 27s 271ms/step - loss: 1.3862 - acc: 0.5855 - val_loss: 1.1671 - val_acc: 0.6477\n",
      "Epoch 24/100\n",
      "100/100 [==============================] - 27s 274ms/step - loss: 1.3273 - acc: 0.5920 - val_loss: 1.0794 - val_acc: 0.6894\n",
      "Epoch 25/100\n",
      "100/100 [==============================] - 26s 257ms/step - loss: 1.3568 - acc: 0.5795 - val_loss: 1.1767 - val_acc: 0.6488\n",
      "Epoch 26/100\n",
      "100/100 [==============================] - 26s 256ms/step - loss: 1.3166 - acc: 0.5940 - val_loss: 1.0679 - val_acc: 0.6629\n",
      "Epoch 27/100\n",
      "100/100 [==============================] - 25s 252ms/step - loss: 1.3673 - acc: 0.5720 - val_loss: 1.1145 - val_acc: 0.6721\n",
      "Epoch 28/100\n",
      "100/100 [==============================] - 26s 263ms/step - loss: 1.3295 - acc: 0.5805 - val_loss: 1.1472 - val_acc: 0.6720\n",
      "Epoch 29/100\n",
      "100/100 [==============================] - 27s 271ms/step - loss: 1.3353 - acc: 0.5930 - val_loss: 1.1150 - val_acc: 0.6782\n",
      "Epoch 30/100\n",
      "100/100 [==============================] - 26s 265ms/step - loss: 1.2471 - acc: 0.6045 - val_loss: 1.0915 - val_acc: 0.6823\n",
      "Epoch 31/100\n",
      "100/100 [==============================] - 26s 258ms/step - loss: 1.2734 - acc: 0.6130 - val_loss: 1.0905 - val_acc: 0.6690\n",
      "Epoch 32/100\n",
      "100/100 [==============================] - 26s 261ms/step - loss: 1.2953 - acc: 0.5905 - val_loss: 1.0849 - val_acc: 0.6813\n",
      "Epoch 33/100\n",
      "100/100 [==============================] - 26s 259ms/step - loss: 1.2528 - acc: 0.6010 - val_loss: 1.1736 - val_acc: 0.6884\n",
      "Epoch 34/100\n",
      "100/100 [==============================] - 27s 265ms/step - loss: 1.2826 - acc: 0.5985 - val_loss: 1.0898 - val_acc: 0.6963\n",
      "Epoch 35/100\n",
      "100/100 [==============================] - 26s 262ms/step - loss: 1.2996 - acc: 0.5760 - val_loss: 1.1459 - val_acc: 0.6680\n",
      "Epoch 36/100\n",
      "100/100 [==============================] - 27s 275ms/step - loss: 1.2071 - acc: 0.6105 - val_loss: 1.1238 - val_acc: 0.6772\n",
      "Epoch 37/100\n",
      "100/100 [==============================] - 26s 258ms/step - loss: 1.2861 - acc: 0.5880 - val_loss: 1.0680 - val_acc: 0.7053\n",
      "Epoch 38/100\n",
      "100/100 [==============================] - 27s 267ms/step - loss: 1.2389 - acc: 0.6135 - val_loss: 1.1480 - val_acc: 0.6589\n",
      "Epoch 39/100\n",
      "100/100 [==============================] - 27s 269ms/step - loss: 1.3067 - acc: 0.5870 - val_loss: 1.1542 - val_acc: 0.6752\n",
      "Epoch 40/100\n",
      "100/100 [==============================] - 25s 251ms/step - loss: 1.2022 - acc: 0.6200 - val_loss: 1.0447 - val_acc: 0.6973\n",
      "Epoch 41/100\n",
      "100/100 [==============================] - 27s 274ms/step - loss: 1.2732 - acc: 0.5950 - val_loss: 1.0394 - val_acc: 0.6935\n",
      "Epoch 42/100\n",
      "100/100 [==============================] - 26s 263ms/step - loss: 1.2454 - acc: 0.6035 - val_loss: 1.0689 - val_acc: 0.6823\n",
      "Epoch 43/100\n",
      "100/100 [==============================] - 27s 266ms/step - loss: 1.2376 - acc: 0.6155 - val_loss: 1.1048 - val_acc: 0.6690\n",
      "Epoch 44/100\n",
      "100/100 [==============================] - 27s 270ms/step - loss: 1.2546 - acc: 0.6035 - val_loss: 1.0627 - val_acc: 0.6986\n",
      "Epoch 45/100\n",
      "100/100 [==============================] - 27s 267ms/step - loss: 1.1880 - acc: 0.6275 - val_loss: 1.1443 - val_acc: 0.6792\n",
      "Epoch 46/100\n",
      "100/100 [==============================] - 24s 240ms/step - loss: 1.2558 - acc: 0.6105 - val_loss: 1.0893 - val_acc: 0.6892\n",
      "Epoch 47/100\n",
      "100/100 [==============================] - 28s 283ms/step - loss: 1.2473 - acc: 0.6085 - val_loss: 1.1482 - val_acc: 0.6741\n",
      "Epoch 48/100\n",
      "100/100 [==============================] - 27s 267ms/step - loss: 1.2013 - acc: 0.6070 - val_loss: 1.1545 - val_acc: 0.6813\n",
      "Epoch 49/100\n",
      "100/100 [==============================] - 25s 250ms/step - loss: 1.1806 - acc: 0.6205 - val_loss: 1.2563 - val_acc: 0.6811\n",
      "Epoch 50/100\n",
      "100/100 [==============================] - 27s 266ms/step - loss: 1.2031 - acc: 0.6180 - val_loss: 1.1434 - val_acc: 0.6568\n",
      "Epoch 51/100\n",
      "100/100 [==============================] - 26s 260ms/step - loss: 1.2065 - acc: 0.6345 - val_loss: 1.0640 - val_acc: 0.6945\n",
      "Epoch 52/100\n",
      "100/100 [==============================] - 25s 248ms/step - loss: 1.2408 - acc: 0.6070 - val_loss: 1.0863 - val_acc: 0.6922\n",
      "Epoch 53/100\n",
      "100/100 [==============================] - 26s 262ms/step - loss: 1.1881 - acc: 0.6195 - val_loss: 1.0636 - val_acc: 0.6965\n",
      "Epoch 54/100\n",
      "100/100 [==============================] - 27s 274ms/step - loss: 1.2549 - acc: 0.6085 - val_loss: 1.0694 - val_acc: 0.6813\n",
      "Epoch 55/100\n",
      "100/100 [==============================] - 26s 263ms/step - loss: 1.2157 - acc: 0.6200 - val_loss: 1.0742 - val_acc: 0.6953\n",
      "Epoch 56/100\n",
      "100/100 [==============================] - 27s 267ms/step - loss: 1.1848 - acc: 0.6445 - val_loss: 1.1210 - val_acc: 0.6802\n",
      "Epoch 57/100\n",
      "100/100 [==============================] - 25s 249ms/step - loss: 1.1873 - acc: 0.6280 - val_loss: 1.0860 - val_acc: 0.6813\n",
      "Epoch 58/100\n",
      "100/100 [==============================] - 26s 257ms/step - loss: 1.2136 - acc: 0.6240 - val_loss: 1.0855 - val_acc: 0.6842\n",
      "Epoch 59/100\n",
      "100/100 [==============================] - 28s 283ms/step - loss: 1.2094 - acc: 0.6200 - val_loss: 1.0960 - val_acc: 0.6752\n",
      "Epoch 60/100\n",
      "100/100 [==============================] - 26s 261ms/step - loss: 1.1766 - acc: 0.6235 - val_loss: 1.0689 - val_acc: 0.6914\n"
     ]
    },
    {
     "name": "stdout",
     "output_type": "stream",
     "text": [
      "Epoch 61/100\n",
      "100/100 [==============================] - 26s 258ms/step - loss: 1.1591 - acc: 0.6310 - val_loss: 1.0412 - val_acc: 0.7053\n",
      "Epoch 62/100\n",
      "100/100 [==============================] - 28s 282ms/step - loss: 1.1873 - acc: 0.6260 - val_loss: 1.1376 - val_acc: 0.6660\n",
      "Epoch 63/100\n",
      "100/100 [==============================] - 25s 254ms/step - loss: 1.1464 - acc: 0.6300 - val_loss: 1.1432 - val_acc: 0.6864\n",
      "Epoch 64/100\n",
      "100/100 [==============================] - 25s 251ms/step - loss: 1.1596 - acc: 0.6335 - val_loss: 1.0954 - val_acc: 0.7033\n",
      "Epoch 65/100\n",
      "100/100 [==============================] - 25s 248ms/step - loss: 1.1751 - acc: 0.6380 - val_loss: 1.0961 - val_acc: 0.6853\n",
      "Epoch 66/100\n",
      "100/100 [==============================] - 27s 265ms/step - loss: 1.2206 - acc: 0.6205 - val_loss: 1.0398 - val_acc: 0.6904\n",
      "Epoch 67/100\n",
      "100/100 [==============================] - 26s 258ms/step - loss: 1.1522 - acc: 0.6235 - val_loss: 1.0727 - val_acc: 0.7064\n",
      "Epoch 68/100\n",
      "100/100 [==============================] - 26s 265ms/step - loss: 1.1485 - acc: 0.6295 - val_loss: 1.0975 - val_acc: 0.6955\n",
      "Epoch 69/100\n",
      "100/100 [==============================] - 24s 236ms/step - loss: 1.1383 - acc: 0.6490 - val_loss: 1.0571 - val_acc: 0.6864\n",
      "Epoch 70/100\n",
      "100/100 [==============================] - 26s 257ms/step - loss: 1.1761 - acc: 0.6285 - val_loss: 1.0589 - val_acc: 0.6993\n",
      "Epoch 71/100\n",
      "100/100 [==============================] - 26s 262ms/step - loss: 1.1233 - acc: 0.6395 - val_loss: 1.0716 - val_acc: 0.6925\n",
      "Epoch 72/100\n",
      "100/100 [==============================] - 26s 258ms/step - loss: 1.1013 - acc: 0.6550 - val_loss: 1.0760 - val_acc: 0.6986\n",
      "Epoch 73/100\n",
      "100/100 [==============================] - 26s 258ms/step - loss: 1.1429 - acc: 0.6415 - val_loss: 1.2495 - val_acc: 0.6831\n",
      "Epoch 74/100\n",
      "100/100 [==============================] - 26s 263ms/step - loss: 1.1291 - acc: 0.6330 - val_loss: 1.0742 - val_acc: 0.7159\n",
      "Epoch 75/100\n",
      "100/100 [==============================] - 27s 269ms/step - loss: 1.1878 - acc: 0.6300 - val_loss: 1.0713 - val_acc: 0.7006\n",
      "Epoch 76/100\n",
      "100/100 [==============================] - 27s 269ms/step - loss: 1.1643 - acc: 0.6425 - val_loss: 1.1281 - val_acc: 0.6892\n",
      "Epoch 77/100\n",
      "100/100 [==============================] - 26s 262ms/step - loss: 1.1201 - acc: 0.6500 - val_loss: 1.0636 - val_acc: 0.7077\n",
      "Epoch 78/100\n",
      "100/100 [==============================] - 25s 248ms/step - loss: 1.1261 - acc: 0.6405 - val_loss: 1.0819 - val_acc: 0.6925\n",
      "Epoch 79/100\n",
      "100/100 [==============================] - 26s 257ms/step - loss: 1.0767 - acc: 0.6580 - val_loss: 1.0846 - val_acc: 0.6922\n",
      "Epoch 80/100\n",
      "100/100 [==============================] - 27s 272ms/step - loss: 1.1177 - acc: 0.6445 - val_loss: 1.0922 - val_acc: 0.6925\n",
      "Epoch 81/100\n",
      "100/100 [==============================] - 26s 265ms/step - loss: 1.0907 - acc: 0.6665 - val_loss: 1.1075 - val_acc: 0.7047\n",
      "Epoch 82/100\n",
      "100/100 [==============================] - 26s 257ms/step - loss: 1.1228 - acc: 0.6390 - val_loss: 1.1446 - val_acc: 0.6831\n",
      "Epoch 83/100\n",
      "100/100 [==============================] - 27s 272ms/step - loss: 1.1139 - acc: 0.6395 - val_loss: 0.9872 - val_acc: 0.6996\n",
      "Epoch 84/100\n",
      "100/100 [==============================] - 26s 255ms/step - loss: 1.1349 - acc: 0.6545 - val_loss: 1.0751 - val_acc: 0.6762\n",
      "Epoch 85/100\n",
      "100/100 [==============================] - 29s 287ms/step - loss: 1.0855 - acc: 0.6740 - val_loss: 1.1052 - val_acc: 0.6942\n",
      "Epoch 86/100\n",
      "100/100 [==============================] - 26s 255ms/step - loss: 1.1101 - acc: 0.6470 - val_loss: 1.0858 - val_acc: 0.6904\n",
      "Epoch 87/100\n",
      "100/100 [==============================] - 26s 264ms/step - loss: 1.1459 - acc: 0.6490 - val_loss: 1.2124 - val_acc: 0.6904\n",
      "Epoch 88/100\n",
      "100/100 [==============================] - 27s 271ms/step - loss: 1.0697 - acc: 0.6515 - val_loss: 1.0451 - val_acc: 0.6973\n",
      "Epoch 89/100\n",
      "100/100 [==============================] - 27s 267ms/step - loss: 1.1128 - acc: 0.6515 - val_loss: 1.0849 - val_acc: 0.6894\n",
      "Epoch 90/100\n",
      "100/100 [==============================] - 25s 255ms/step - loss: 1.0975 - acc: 0.6465 - val_loss: 0.9853 - val_acc: 0.7088\n",
      "Epoch 91/100\n",
      "100/100 [==============================] - 26s 258ms/step - loss: 1.1081 - acc: 0.6515 - val_loss: 1.0611 - val_acc: 0.7114\n",
      "Epoch 92/100\n",
      "100/100 [==============================] - 25s 248ms/step - loss: 1.0978 - acc: 0.6430 - val_loss: 1.0800 - val_acc: 0.6762\n",
      "Epoch 93/100\n",
      "100/100 [==============================] - 26s 263ms/step - loss: 1.0960 - acc: 0.6480 - val_loss: 1.1377 - val_acc: 0.6996\n",
      "Epoch 94/100\n",
      "100/100 [==============================] - 27s 266ms/step - loss: 1.0724 - acc: 0.6520 - val_loss: 1.0502 - val_acc: 0.6872\n",
      "Epoch 95/100\n",
      "100/100 [==============================] - 26s 264ms/step - loss: 1.1016 - acc: 0.6480 - val_loss: 1.0206 - val_acc: 0.7179\n",
      "Epoch 96/100\n",
      "100/100 [==============================] - 25s 251ms/step - loss: 1.0707 - acc: 0.6585 - val_loss: 1.0336 - val_acc: 0.7067\n",
      "Epoch 97/100\n",
      "100/100 [==============================] - 28s 284ms/step - loss: 1.0825 - acc: 0.6750 - val_loss: 1.0235 - val_acc: 0.7164\n",
      "Epoch 98/100\n",
      "100/100 [==============================] - 26s 265ms/step - loss: 1.0850 - acc: 0.6325 - val_loss: 0.9962 - val_acc: 0.7108\n",
      "Epoch 99/100\n",
      "100/100 [==============================] - 24s 243ms/step - loss: 1.0516 - acc: 0.6760 - val_loss: 1.0922 - val_acc: 0.7067\n",
      "Epoch 100/100\n",
      "100/100 [==============================] - 27s 265ms/step - loss: 1.1054 - acc: 0.6525 - val_loss: 1.0806 - val_acc: 0.6882\n"
     ]
    }
   ],
   "source": [
    "#Entrenar la red\n",
    "history = model.fit_generator(\n",
    "    train_generator,\n",
    "    steps_per_epoch=100,\n",
    "    epochs=100,\n",
    "    validation_data=validation_generator,\n",
    "    validation_steps=50)"
   ]
  },
  {
   "cell_type": "code",
   "execution_count": 18,
   "metadata": {},
   "outputs": [
    {
     "data": {
      "image/png": "[encoded data removed]",
      "text/plain": [
       "<Figure size 432x288 with 1 Axes>"
      ]
     },
     "metadata": {
      "needs_background": "light"
     },
     "output_type": "display_data"
    },
    {
     "data": {
      "image/png": "[encoded data removed]",
      "text/plain": [
       "<Figure size 432x288 with 1 Axes>"
      ]
     },
     "metadata": {
      "needs_background": "light"
     },
     "output_type": "display_data"
    }
   ],
   "source": [
    "#graficar\n",
    "import matplotlib.pyplot as plt\n",
    "acc = history.history['acc']\n",
    "val_acc = history.history['val_acc']\n",
    "loss = history.history['loss']\n",
    "val_loss = history.history['val_loss']\n",
    "epochs = range(1, len(acc) + 1)\n",
    "plt.plot(epochs, acc, 'bo', label='Training acc') #Entrenamiento acc\n",
    "plt.plot(epochs, val_acc, 'b', label='Validation acc') #Validación acc\n",
    "#plt.xlabel('Epochs'); plt.ylabel('acc')\n",
    "plt.title('Training and validation accuracy ('+nombre+')') # Entrenamiento y validación (precisión acc)\n",
    "plt.legend()\n",
    "plt.savefig(nombre+'Fine.png') #guardar figura #plt.savefig('VGG16Fine.png')\n",
    "\n",
    "plt.figure()\n",
    "plt.plot(epochs, loss, 'bo', label='Training loss')\n",
    "plt.plot(epochs, val_loss, 'b', label='Validation loss')\n",
    "plt.title('Training and validation loss ('+nombre+')') #Entrenamiento y validación (función de perdida)\n",
    "plt.legend()\n",
    "plt.savefig(nombre+'FineL.png') #guardar figura #plt.savefig('VGG16L.png')\n",
    "plt.show()"
   ]
  },
  {
   "cell_type": "code",
   "execution_count": 19,
   "metadata": {},
   "outputs": [
    {
     "data": {
      "image/png": "[encoded data removed]",
      "text/plain": [
       "<Figure size 432x288 with 1 Axes>"
      ]
     },
     "metadata": {
      "needs_background": "light"
     },
     "output_type": "display_data"
    },
    {
     "data": {
      "image/png": "[encoded data removed]",
      "text/plain": [
       "<Figure size 432x288 with 1 Axes>"
      ]
     },
     "metadata": {
      "needs_background": "light"
     },
     "output_type": "display_data"
    }
   ],
   "source": [
    "#Suavizando las graficas (reemplazando con promedios de movimiento exponencial)\n",
    "def smooth_curve(points, factor=0.8):\n",
    "    smoothed_points = []\n",
    "    for point in points:\n",
    "        if smoothed_points:\n",
    "            previous = smoothed_points[-1]\n",
    "            smoothed_points.append(previous * factor + point * (1 - factor))\n",
    "        else:\n",
    "            smoothed_points.append(point)\n",
    "    return smoothed_points\n",
    "\n",
    "plt.plot(epochs,smooth_curve(acc), 'bo', label='Smoothed training acc')\n",
    "plt.plot(epochs,smooth_curve(val_acc), 'b', label='Smoothed validation acc')\n",
    "plt.title('Training and validation accuracy ('+nombre+')') # Entrenamiento y validación (precisión acc)\n",
    "plt.legend()\n",
    "plt.savefig(nombre+'FineS.png') #guardar figura #plt.savefig('VGG16FineS.png')\n",
    "\n",
    "plt.figure()\n",
    "plt.plot(epochs,smooth_curve(loss), 'bo', label='Smoothed training loss')\n",
    "plt.plot(epochs,smooth_curve(val_loss), 'b', label='Smoothed validation loss')\n",
    "plt.title('Training and validation loss ('+nombre+')') #Entrenamiento y validación (función de perdida)\n",
    "plt.legend()\n",
    "plt.savefig(nombre+'FineLS.png') #guardar figura #plt.savefig('VGG16FineLS.png')\n",
    "plt.show()"
   ]
  },
  {
   "cell_type": "code",
   "execution_count": 20,
   "metadata": {},
   "outputs": [
    {
     "name": "stdout",
     "output_type": "stream",
     "text": [
      "Found 585 images belonging to 15 classes.\n",
      "test acc: 0.6649746177765319   test loss: 1.226297148744467\n"
     ]
    }
   ],
   "source": [
    "#########################################################################\n",
    "# Evaluar el modelo cargado con los datos de test\n",
    "#########################################################################\n",
    "#Generar datos por el metodo flow_from_directory de la clase ImageDataGenerator\n",
    "#Datos de test\n",
    "test_generator = test_datagen.flow_from_directory(\n",
    "    test_dir,\n",
    "    target_size=(150, 150),\n",
    "    batch_size=20,\n",
    "    class_mode='categorical')\n",
    "#Evaluar el modelo con los datos de test\n",
    "test_loss, test_acc = model.evaluate_generator(test_generator, steps=50)\n",
    "print('test acc:', test_acc,'  test loss:', test_loss )"
   ]
  },
  {
   "cell_type": "code",
   "execution_count": 21,
   "metadata": {},
   "outputs": [],
   "source": [
    "#guardar un modelo \n",
    "model.save(nombre+'Fine.h5') #model.save('VGG16.h5')"
   ]
  },
  {
   "cell_type": "code",
   "execution_count": 22,
   "metadata": {},
   "outputs": [],
   "source": [
    "#guardar el history para graficar despues\n",
    "import json\n",
    "with open(nombre+'FineHistory.json', 'w') as f:\n",
    "#with open('VGG16History.json', 'w') as f:\n",
    "    json.dump(history.history, f)"
   ]
  },
  {
   "cell_type": "code",
   "execution_count": 23,
   "metadata": {},
   "outputs": [],
   "source": [
    "#guardar la precision de test\n",
    "import json\n",
    "with open(nombre+'FineTest.json', 'w') as f:\n",
    "#with open('VGG16Test.json', 'w') as f:\n",
    "    json.dump((test_loss, test_acc), f)"
   ]
  },
  {
   "cell_type": "code",
   "execution_count": null,
   "metadata": {},
   "outputs": [],
   "source": []
  }
 ],
 "metadata": {
  "kernelspec": {
   "display_name": "Python 3",
   "language": "python",
   "name": "python3"
  },
  "language_info": {
   "codemirror_mode": {
    "name": "ipython",
    "version": 3
   },
   "file_extension": ".py",
   "mimetype": "text/x-python",
   "name": "python",
   "nbconvert_exporter": "python",
   "pygments_lexer": "ipython3",
   "version": "3.5.2"
  }
 },
 "nbformat": 4,
 "nbformat_minor": 2
}
