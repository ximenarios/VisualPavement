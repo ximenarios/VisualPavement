{
 "cells": [
  {
   "cell_type": "code",
   "execution_count": null,
   "metadata": {},
   "outputs": [],
   "source": [
    "#########################################################################\n",
    "# Convolutional Network \n",
    "#########################################################################\n",
    "# Performed by Ximena Rios -Universidad del Valle\n",
    "#########################################################################"
   ]
  },
  {
   "cell_type": "code",
   "execution_count": 30,
   "metadata": {},
   "outputs": [],
   "source": [
    "#Parametros generales\n",
    "IMG_ALTO = 150\n",
    "IMG_ANCHO =150\n",
    "LOTE_SIZE = 32 #tamaño de los lotes de datos\n",
    "\n",
    "#Definir los directorios de trabajo \n",
    "import os\n",
    "train_dir = os.getcwd() + '/base_datos/train/'\n",
    "validacion_dir= os.getcwd() + '/base_datos/validacion/'\n",
    "test_dir = os.getcwd() + '/base_datos/test/'\n",
    "\n",
    "#Definir el nombre para guardar el modelo y los datos \n",
    "nombre=('Conv')"
   ]
  },
  {
   "cell_type": "code",
   "execution_count": 32,
   "metadata": {},
   "outputs": [],
   "source": [
    "from keras import layers\n",
    "from keras import models\n",
    "import numpy as np\n",
    "\n",
    "#Arquitectura de la red (small convnet)\n",
    "model = models.Sequential()\n",
    "model.add(layers.Conv2D(32, (3, 3), activation='relu', input_shape=(IMG_ALTO, IMG_ANCHO, 3)))\n",
    "model.add(layers.MaxPooling2D((2, 2)))\n",
    "model.add(layers.Conv2D(64, (3, 3), activation='relu'))\n",
    "model.add(layers.MaxPooling2D((2, 2)))\n",
    "model.add(layers.Conv2D(128, (3, 3), activation='relu'))\n",
    "model.add(layers.MaxPooling2D((2, 2)))\n",
    "model.add(layers.Conv2D(128, (3, 3), activation='relu'))\n",
    "model.add(layers.MaxPooling2D((2, 2)))\n",
    "#https://www.tensorflow.org/api_docs/python/tf/keras/Model?version=stable"
   ]
  },
  {
   "cell_type": "code",
   "execution_count": 33,
   "metadata": {},
   "outputs": [
    {
     "name": "stdout",
     "output_type": "stream",
     "text": [
      "_________________________________________________________________\n",
      "Layer (type)                 Output Shape              Param #   \n",
      "=================================================================\n",
      "conv2d_9 (Conv2D)            (None, 148, 148, 32)      896       \n",
      "_________________________________________________________________\n",
      "max_pooling2d_9 (MaxPooling2 (None, 74, 74, 32)        0         \n",
      "_________________________________________________________________\n",
      "conv2d_10 (Conv2D)           (None, 72, 72, 64)        18496     \n",
      "_________________________________________________________________\n",
      "max_pooling2d_10 (MaxPooling (None, 36, 36, 64)        0         \n",
      "_________________________________________________________________\n",
      "conv2d_11 (Conv2D)           (None, 34, 34, 128)       73856     \n",
      "_________________________________________________________________\n",
      "max_pooling2d_11 (MaxPooling (None, 17, 17, 128)       0         \n",
      "_________________________________________________________________\n",
      "conv2d_12 (Conv2D)           (None, 15, 15, 128)       147584    \n",
      "_________________________________________________________________\n",
      "max_pooling2d_12 (MaxPooling (None, 7, 7, 128)         0         \n",
      "=================================================================\n",
      "Total params: 240,832\n",
      "Trainable params: 240,832\n",
      "Non-trainable params: 0\n",
      "_________________________________________________________________\n"
     ]
    }
   ],
   "source": [
    "model.summary()"
   ]
  },
  {
   "cell_type": "code",
   "execution_count": 34,
   "metadata": {},
   "outputs": [],
   "source": [
    "#adicionar dropout\n",
    "model.add(layers.Dropout(0.5))\n",
    "#Adding a classifier on top of the convnet\n",
    "model.add(layers.Flatten())\n",
    "model.add(layers.Dense(512, activation='relu'))\n",
    "model.add(layers.Dense(15, activation='softmax')) #capa densa de tamaño 15. para cada entrada la red saca un vector de 15 dimensiones. cada entrada en este vector codifica una clase diferente de salida \n",
    "# activacion softmax significa que la red puede sacar una distribucion de probabilidad sobre 15 diferentes clases de salida"
   ]
  },
  {
   "cell_type": "code",
   "execution_count": 35,
   "metadata": {},
   "outputs": [
    {
     "name": "stdout",
     "output_type": "stream",
     "text": [
      "_________________________________________________________________\n",
      "Layer (type)                 Output Shape              Param #   \n",
      "=================================================================\n",
      "conv2d_9 (Conv2D)            (None, 148, 148, 32)      896       \n",
      "_________________________________________________________________\n",
      "max_pooling2d_9 (MaxPooling2 (None, 74, 74, 32)        0         \n",
      "_________________________________________________________________\n",
      "conv2d_10 (Conv2D)           (None, 72, 72, 64)        18496     \n",
      "_________________________________________________________________\n",
      "max_pooling2d_10 (MaxPooling (None, 36, 36, 64)        0         \n",
      "_________________________________________________________________\n",
      "conv2d_11 (Conv2D)           (None, 34, 34, 128)       73856     \n",
      "_________________________________________________________________\n",
      "max_pooling2d_11 (MaxPooling (None, 17, 17, 128)       0         \n",
      "_________________________________________________________________\n",
      "conv2d_12 (Conv2D)           (None, 15, 15, 128)       147584    \n",
      "_________________________________________________________________\n",
      "max_pooling2d_12 (MaxPooling (None, 7, 7, 128)         0         \n",
      "_________________________________________________________________\n",
      "dropout_2 (Dropout)          (None, 7, 7, 128)         0         \n",
      "_________________________________________________________________\n",
      "flatten_4 (Flatten)          (None, 6272)              0         \n",
      "_________________________________________________________________\n",
      "dense_5 (Dense)              (None, 512)               3211776   \n",
      "_________________________________________________________________\n",
      "dense_6 (Dense)              (None, 15)                7695      \n",
      "=================================================================\n",
      "Total params: 3,460,303\n",
      "Trainable params: 3,460,303\n",
      "Non-trainable params: 0\n",
      "_________________________________________________________________\n"
     ]
    }
   ],
   "source": [
    "model.summary()"
   ]
  },
  {
   "cell_type": "code",
   "execution_count": 36,
   "metadata": {},
   "outputs": [],
   "source": [
    "#compilar\n",
    "from keras import optimizers\n",
    "model.compile(optimizer='rmsprop',\n",
    "    loss='categorical_crossentropy', #funcion de activacion para clasificacion multiclase\n",
    "    metrics=['acc'])  #categorical_crossentropy, espera que las etiquetas sigan una codificación categórica\n",
    "    #categorical--> will be 2D one-hot encoded labels"
   ]
  },
  {
   "cell_type": "code",
   "execution_count": 37,
   "metadata": {},
   "outputs": [],
   "source": [
    "#Crear una instancia de la clase ImageDataGenerator para el aumento de datos\n",
    "from keras.preprocessing.image import ImageDataGenerator\n",
    "train_dir = os.getcwd() + '/base_datos/train/'\n",
    "validacion_dir= os.getcwd() + '/base_datos/validacion/'\n",
    "train_datagen = ImageDataGenerator(\n",
    "            rescale=1./255, # Todas las imágenes serán reescaladas por 1./255\n",
    "            width_shift_range=0.2, #son rangos(una fraccion del total) dentro de los cuales se puede trasladar una figura aleatoreamente\n",
    "            height_shift_range=0.2, \n",
    "            zoom_range=0.2, \n",
    "            horizontal_flip=True, #Voltear aleatoriamente las entradas horizontalmente\n",
    "            vertical_flip=True, \n",
    "            fill_mode='nearest') #nearest #reflect constant\n",
    "#Note que los datos de validacion no deben ser aumentados!!!\n",
    "test_datagen = ImageDataGenerator(rescale=1./255)"
   ]
  },
  {
   "cell_type": "code",
   "execution_count": 38,
   "metadata": {},
   "outputs": [
    {
     "name": "stdout",
     "output_type": "stream",
     "text": [
      "Found 4664 images belonging to 15 classes.\n",
      "Found 591 images belonging to 15 classes.\n"
     ]
    }
   ],
   "source": [
    "#Generar datos por el metodo flow_from_directory de la clase ImageDataGenerator\n",
    "train_generator = train_datagen.flow_from_directory(\n",
    "    train_dir,# Este es el directorio objetivo\n",
    "    target_size=(IMG_ALTO, IMG_ANCHO), # Tamaño de las imágenes (serán redimensionadas)\n",
    "    batch_size=LOTE_SIZE, #tamaño de los lotes de datos (cantidad de imagenes generadas)\n",
    "    #save_to_dir=os.getcwd() + '/base_datos/AumenTrain/',\n",
    "    class_mode='categorical') # Como usamos la funcion de pérdida categorical_crossentropy, necesitamos etiquetas categorical\n",
    "    #categorical --> will be 2D one-hot encoded labels\n",
    "    #produce lotes de imágenes RGB de 150x150 (forma (32, 150, 150, 3)) y etiquetas 2D one-hot  (forma (32,))\n",
    "#Datos de validacion\n",
    "validation_generator = test_datagen.flow_from_directory(\n",
    "    validacion_dir,\n",
    "    target_size=(IMG_ALTO, IMG_ANCHO),\n",
    "    batch_size=LOTE_SIZE,\n",
    "    class_mode='categorical')"
   ]
  },
  {
   "cell_type": "code",
   "execution_count": 41,
   "metadata": {},
   "outputs": [
    {
     "name": "stdout",
     "output_type": "stream",
     "text": [
      "Epoch 1/30\n",
      "146/146 [==============================] - 59s 407ms/step - loss: 2.5316 - acc: 0.1958 - val_loss: 2.7425 - val_acc: 0.2365\n",
      "Epoch 2/30\n",
      "146/146 [==============================] - 55s 373ms/step - loss: 2.3057 - acc: 0.2568 - val_loss: 2.0810 - val_acc: 0.3110\n",
      "Epoch 3/30\n",
      "146/146 [==============================] - 55s 379ms/step - loss: 2.1763 - acc: 0.3008 - val_loss: 1.9739 - val_acc: 0.3775\n",
      "Epoch 4/30\n",
      "146/146 [==============================] - 56s 384ms/step - loss: 2.0522 - acc: 0.3433 - val_loss: 1.7969 - val_acc: 0.4136\n",
      "Epoch 5/30\n",
      "146/146 [==============================] - 54s 371ms/step - loss: 1.9605 - acc: 0.3697 - val_loss: 1.9850 - val_acc: 0.3330\n",
      "Epoch 6/30\n",
      "146/146 [==============================] - 57s 388ms/step - loss: 1.8931 - acc: 0.4043 - val_loss: 1.9270 - val_acc: 0.3790\n",
      "Epoch 7/30\n",
      "146/146 [==============================] - 55s 378ms/step - loss: 1.7913 - acc: 0.4229 - val_loss: 1.6684 - val_acc: 0.4978\n",
      "Epoch 8/30\n",
      "146/146 [==============================] - 54s 369ms/step - loss: 1.7862 - acc: 0.4327 - val_loss: 1.7477 - val_acc: 0.4751\n",
      "Epoch 9/30\n",
      "146/146 [==============================] - 55s 378ms/step - loss: 1.7192 - acc: 0.4579 - val_loss: 1.4831 - val_acc: 0.5108\n",
      "Epoch 10/30\n",
      "146/146 [==============================] - 54s 368ms/step - loss: 1.6763 - acc: 0.4679 - val_loss: 1.4383 - val_acc: 0.5758\n",
      "Epoch 11/30\n",
      "146/146 [==============================] - 55s 377ms/step - loss: 1.6457 - acc: 0.4762 - val_loss: 1.4131 - val_acc: 0.5788\n",
      "Epoch 12/30\n",
      "146/146 [==============================] - 53s 361ms/step - loss: 1.6109 - acc: 0.4879 - val_loss: 1.6757 - val_acc: 0.4761\n",
      "Epoch 13/30\n",
      "146/146 [==============================] - 56s 381ms/step - loss: 1.5755 - acc: 0.4959 - val_loss: 1.3692 - val_acc: 0.5724\n",
      "Epoch 14/30\n",
      "146/146 [==============================] - 55s 375ms/step - loss: 1.5723 - acc: 0.5042 - val_loss: 1.4134 - val_acc: 0.5691\n",
      "Epoch 15/30\n",
      "146/146 [==============================] - 53s 363ms/step - loss: 1.5405 - acc: 0.4999 - val_loss: 1.4152 - val_acc: 0.5832\n",
      "Epoch 16/30\n",
      "146/146 [==============================] - 57s 391ms/step - loss: 1.5234 - acc: 0.5083 - val_loss: 1.3645 - val_acc: 0.5734\n",
      "Epoch 17/30\n",
      "146/146 [==============================] - 53s 361ms/step - loss: 1.5048 - acc: 0.5178 - val_loss: 1.4167 - val_acc: 0.5642\n",
      "Epoch 18/30\n",
      "146/146 [==============================] - 57s 388ms/step - loss: 1.4737 - acc: 0.5370 - val_loss: 1.4605 - val_acc: 0.5713\n",
      "Epoch 19/30\n",
      "146/146 [==============================] - 54s 372ms/step - loss: 1.4777 - acc: 0.5321 - val_loss: 1.3458 - val_acc: 0.5745\n",
      "Epoch 20/30\n",
      "146/146 [==============================] - 54s 369ms/step - loss: 1.4363 - acc: 0.5361 - val_loss: 1.2762 - val_acc: 0.6076\n",
      "Epoch 21/30\n",
      "146/146 [==============================] - 56s 383ms/step - loss: 1.4513 - acc: 0.5515 - val_loss: 1.3513 - val_acc: 0.5799\n",
      "Epoch 22/30\n",
      "146/146 [==============================] - 55s 376ms/step - loss: 1.4390 - acc: 0.5372 - val_loss: 1.7240 - val_acc: 0.4825\n",
      "Epoch 23/30\n",
      "146/146 [==============================] - 55s 379ms/step - loss: 1.4146 - acc: 0.5460 - val_loss: 1.1942 - val_acc: 0.6317\n",
      "Epoch 24/30\n",
      "146/146 [==============================] - 53s 360ms/step - loss: 1.3862 - acc: 0.5577 - val_loss: 1.7421 - val_acc: 0.5122\n",
      "Epoch 25/30\n",
      "146/146 [==============================] - 57s 388ms/step - loss: 1.3996 - acc: 0.5646 - val_loss: 1.3523 - val_acc: 0.5864\n",
      "Epoch 26/30\n",
      "146/146 [==============================] - 54s 373ms/step - loss: 1.3665 - acc: 0.5706 - val_loss: 1.2748 - val_acc: 0.6134\n",
      "Epoch 27/30\n",
      "146/146 [==============================] - 53s 365ms/step - loss: 1.3746 - acc: 0.5656 - val_loss: 1.1330 - val_acc: 0.6416\n",
      "Epoch 28/30\n",
      "146/146 [==============================] - 55s 375ms/step - loss: 1.3722 - acc: 0.5738 - val_loss: 1.2082 - val_acc: 0.6382\n",
      "Epoch 29/30\n",
      "146/146 [==============================] - 55s 374ms/step - loss: 1.3705 - acc: 0.5635 - val_loss: 1.3122 - val_acc: 0.6098\n",
      "Epoch 30/30\n",
      "146/146 [==============================] - 56s 383ms/step - loss: 1.3606 - acc: 0.5727 - val_loss: 1.2365 - val_acc: 0.6210\n"
     ]
    }
   ],
   "source": [
    "#Entrenar la red\n",
    "STEPS_PER_EPOCH = 120\n",
    "history = model.fit_generator(\n",
    "    train_generator, #un generador Python que genere lotes de entradas y targets indefinidamente\n",
    "    steps_per_epoch=STEPS_PER_EPOCH, #100 #2000 #cuántas muestras extraer del generador antes de declarar una época finalizada\n",
    "    epochs= 30, #100,  #30, #50\n",
    "    validation_data=validation_generator,\n",
    "    validation_steps=30 ) #800"
   ]
  },
  {
   "cell_type": "code",
   "execution_count": 43,
   "metadata": {},
   "outputs": [
    {
     "data": {
      "image/png": "[encoded data removed]",
      "text/plain": [
       "<Figure size 432x288 with 1 Axes>"
      ]
     },
     "metadata": {
      "needs_background": "light"
     },
     "output_type": "display_data"
    },
    {
     "data": {
      "image/png": "[encoded data removed]",
      "text/plain": [
       "<Figure size 432x288 with 1 Axes>"
      ]
     },
     "metadata": {
      "needs_background": "light"
     },
     "output_type": "display_data"
    }
   ],
   "source": [
    "#graficar\n",
    "import matplotlib.pyplot as plt\n",
    "acc = history.history['acc']\n",
    "val_acc = history.history['val_acc']\n",
    "loss = history.history['loss']\n",
    "val_loss = history.history['val_loss']\n",
    "epochs = range(1, len(acc) + 1)\n",
    "plt.plot(epochs, acc, 'bo', label='Training acc') #Entrenamiento acc\n",
    "plt.plot(epochs, val_acc, 'b', label='Validation acc') #Validación acc\n",
    "#plt.xlabel('Epochs'); plt.ylabel('acc')\n",
    "plt.title('Training and validation accuracy ('+nombre+')') # Entrenamiento y validación (precisión acc)\n",
    "plt.legend()\n",
    "plt.savefig(nombre+'.png') #guardar figura #plt.savefig('VGG16.png')\n",
    "\n",
    "plt.figure()\n",
    "plt.plot(epochs, loss, 'bo', label='Training loss')\n",
    "plt.plot(epochs, val_loss, 'b', label='Validation loss')\n",
    "plt.title('Training and validation loss ('+nombre+')') #Entrenamiento y validación (función de perdida)\n",
    "plt.legend()\n",
    "plt.savefig(nombre+'L.png') #guardar figura #plt.savefig('VGG16L.png')\n",
    "plt.show()"
   ]
  },
  {
   "cell_type": "code",
   "execution_count": 44,
   "metadata": {},
   "outputs": [
    {
     "name": "stdout",
     "output_type": "stream",
     "text": [
      "Found 585 images belonging to 15 classes.\n",
      "test acc: 0.6020304627224878   test loss: 1.3798849277084855\n"
     ]
    }
   ],
   "source": [
    "#########################################################################\n",
    "# Evaluar el modelo cargado con los datos de test\n",
    "#########################################################################\n",
    "#Generar datos por el metodo flow_from_directory de la clase ImageDataGenerator\n",
    "#Datos de test\n",
    "test_generator = test_datagen.flow_from_directory(\n",
    "    test_dir,\n",
    "    target_size=(150, 150),\n",
    "    batch_size=20,\n",
    "    class_mode='categorical')\n",
    "#Evaluar el modelo con los datos de test\n",
    "test_loss, test_acc = model.evaluate_generator(test_generator, steps=50)\n",
    "print('test acc:', test_acc,'  test loss:', test_loss )"
   ]
  },
  {
   "cell_type": "code",
   "execution_count": null,
   "metadata": {},
   "outputs": [],
   "source": []
  }
 ],
 "metadata": {
  "kernelspec": {
   "display_name": "Python 3",
   "language": "python",
   "name": "python3"
  },
  "language_info": {
   "codemirror_mode": {
    "name": "ipython",
    "version": 3
   },
   "file_extension": ".py",
   "mimetype": "text/x-python",
   "name": "python",
   "nbconvert_exporter": "python",
   "pygments_lexer": "ipython3",
   "version": "3.5.2"
  }
 },
 "nbformat": 4,
 "nbformat_minor": 2
}
