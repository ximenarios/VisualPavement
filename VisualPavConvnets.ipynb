{
 "cells": [
  {
   "cell_type": "text",
   "execution_count": 1,
   "metadata": {},
   "outputs": [],
   "source": [
    "#########################################################################\n",
    "# Usando una red convolucional \n",
    "#########################################################################\n",
    "# Ejecutando todo de extremo a extremo en los datos de entrada. \n",
    "# Esto nos permite utilizar el aumento de datos, \n",
    "# Realizado por Ximena Rios- Universidad del Valle\n",
    "#########################################################################"
   ]
  },


{
 "cells": [
  {
   "cell_type": "code",
   "execution_count": 1,
   "metadata": {},
   "outputs": [],
   "source": [
    "#########################################################################\n",
    "# Usando una red convolucional \n",
    "#########################################################################\n",
    "# Ejecutando todo de extremo a extremo en los datos de entrada. \n",
    "# Esto nos permite utilizar el aumento de datos, \n",
    "# Realizado por Ximena Rios- Universidad del Valle\n",
    "#########################################################################"
   ]
  },
  {
   "cell_type": "code",
   "execution_count": 2,
   "metadata": {},
   "outputs": [],
   "source": [
    "#Parametros generales\n",
    "IMG_ALTO = 150\n",
    "IMG_ANCHO =150\n",
    "LOTE_SIZE = 32 #tamaño de los lotes de datos\n",
    "\n",
    "#Definir los directorios de trabajo \n",
    "import os\n",
    "train_dir = os.getcwd() + '/base_datos/train/'\n",
    "validacion_dir= os.getcwd() + '/base_datos/validacion/'\n",
    "test_dir = os.getcwd() + '/base_datos/test/'\n",
    "\n",
    "#Definir el nombre para guardar el modelo y los datos \n",
    "nombre=('Conv')"
   ]
  },
  {
   "cell_type": "code",
   "execution_count": 3,
   "metadata": {},
   "outputs": [
    {
     "name": "stderr",
     "output_type": "stream",
     "text": [
      "Using TensorFlow backend.\n"
     ]
    }
   ],
   "source": [
    "from keras import layers\n",
    "from keras import models\n",
    "import numpy as np\n",
    "import os\n",
    "import visualPavLib"
   ]
  },
  {
   "cell_type": "code",
   "execution_count": 4,
   "metadata": {},
   "outputs": [],
   "source": [
    "#Arquitectura de la red (small convnet)\n",
    "model = models.Sequential()\n",
    "model.add(layers.Conv2D(32, (3, 3), activation='relu', input_shape=(IMG_ALTO, IMG_ANCHO, 3)))\n",
    "model.add(layers.MaxPooling2D((2, 2)))\n",
    "model.add(layers.Conv2D(64, (3, 3), activation='relu'))\n",
    "model.add(layers.MaxPooling2D((2, 2)))\n",
    "model.add(layers.Conv2D(128, (3, 3), activation='relu'))\n",
    "model.add(layers.MaxPooling2D((2, 2)))\n",
    "model.add(layers.Conv2D(128, (3, 3), activation='relu'))\n",
    "model.add(layers.MaxPooling2D((2, 2)))\n",
    "#https://www.tensorflow.org/api_docs/python/tf/keras/Model?version=stable"
   ]
  },
  {
   "cell_type": "code",
   "execution_count": 5,
   "metadata": {},
   "outputs": [
    {
     "name": "stdout",
     "output_type": "stream",
     "text": [
      "_________________________________________________________________\n",
      "Layer (type)                 Output Shape              Param #   \n",
      "=================================================================\n",
      "conv2d_1 (Conv2D)            (None, 148, 148, 32)      896       \n",
      "_________________________________________________________________\n",
      "max_pooling2d_1 (MaxPooling2 (None, 74, 74, 32)        0         \n",
      "_________________________________________________________________\n",
      "conv2d_2 (Conv2D)            (None, 72, 72, 64)        18496     \n",
      "_________________________________________________________________\n",
      "max_pooling2d_2 (MaxPooling2 (None, 36, 36, 64)        0         \n",
      "_________________________________________________________________\n",
      "conv2d_3 (Conv2D)            (None, 34, 34, 128)       73856     \n",
      "_________________________________________________________________\n",
      "max_pooling2d_3 (MaxPooling2 (None, 17, 17, 128)       0         \n",
      "_________________________________________________________________\n",
      "conv2d_4 (Conv2D)            (None, 15, 15, 128)       147584    \n",
      "_________________________________________________________________\n",
      "max_pooling2d_4 (MaxPooling2 (None, 7, 7, 128)         0         \n",
      "=================================================================\n",
      "Total params: 240,832\n",
      "Trainable params: 240,832\n",
      "Non-trainable params: 0\n",
      "_________________________________________________________________\n"
     ]
    }
   ],
   "source": [
    "model.summary()"
   ]
  },
  {
   "cell_type": "code",
   "execution_count": 6,
   "metadata": {},
   "outputs": [],
   "source": [
    "#adicionar dropout\n",
    "model.add(layers.Dropout(0.5))\n",
    "#Adding a classifier on top of the convnet\n",
    "model.add(layers.Flatten())\n",
    "model.add(layers.Dense(512, activation='relu'))\n",
    "model.add(layers.Dense(15, activation='softmax')) #capa densa de tamaño 15. para cada entrada la red saca un vector de 15 dimensiones. cada entrada en este vector codifica una clase diferente de salida \n",
    "# activacion softmax significa que la red puede sacar una distribucion de probabilidad sobre 15 diferentes clases de salida"
   ]
  },
  {
   "cell_type": "code",
   "execution_count": 7,
   "metadata": {},
   "outputs": [
    {
     "name": "stdout",
     "output_type": "stream",
     "text": [
      "_________________________________________________________________\n",
      "Layer (type)                 Output Shape              Param #   \n",
      "=================================================================\n",
      "conv2d_1 (Conv2D)            (None, 148, 148, 32)      896       \n",
      "_________________________________________________________________\n",
      "max_pooling2d_1 (MaxPooling2 (None, 74, 74, 32)        0         \n",
      "_________________________________________________________________\n",
      "conv2d_2 (Conv2D)            (None, 72, 72, 64)        18496     \n",
      "_________________________________________________________________\n",
      "max_pooling2d_2 (MaxPooling2 (None, 36, 36, 64)        0         \n",
      "_________________________________________________________________\n",
      "conv2d_3 (Conv2D)            (None, 34, 34, 128)       73856     \n",
      "_________________________________________________________________\n",
      "max_pooling2d_3 (MaxPooling2 (None, 17, 17, 128)       0         \n",
      "_________________________________________________________________\n",
      "conv2d_4 (Conv2D)            (None, 15, 15, 128)       147584    \n",
      "_________________________________________________________________\n",
      "max_pooling2d_4 (MaxPooling2 (None, 7, 7, 128)         0         \n",
      "_________________________________________________________________\n",
      "dropout_1 (Dropout)          (None, 7, 7, 128)         0         \n",
      "_________________________________________________________________\n",
      "flatten_1 (Flatten)          (None, 6272)              0         \n",
      "_________________________________________________________________\n",
      "dense_1 (Dense)              (None, 512)               3211776   \n",
      "_________________________________________________________________\n",
      "dense_2 (Dense)              (None, 15)                7695      \n",
      "=================================================================\n",
      "Total params: 3,460,303\n",
      "Trainable params: 3,460,303\n",
      "Non-trainable params: 0\n",
      "_________________________________________________________________\n"
     ]
    }
   ],
   "source": [
    "model.summary()"
   ]
  },
  {
   "cell_type": "code",
   "execution_count": 8,
   "metadata": {},
   "outputs": [],
   "source": [
    "#compilar\n",
    "from keras import optimizers\n",
    "model.compile(optimizer='rmsprop',\n",
    "    loss='categorical_crossentropy', #funcion de activacion para clasificacion multiclase\n",
    "    metrics=['acc'])  #categorical_crossentropy, espera que las etiquetas sigan una codificación categórica\n",
    "    #categorical--> will be 2D one-hot encoded labels"
   ]
  },
  {
   "cell_type": "code",
   "execution_count": 9,
   "metadata": {},
   "outputs": [],
   "source": [
    "#Crear una instancia de la clase ImageDataGenerator para el aumento de datos\n",
    "from keras.preprocessing.image import ImageDataGenerator\n",
    "train_dir = os.getcwd() + '/base_datos/train/'\n",
    "validacion_dir= os.getcwd() + '/base_datos/validacion/'\n",
    "train_datagen = ImageDataGenerator(\n",
    "            rescale=1./255, # Todas las imágenes serán reescaladas por 1./255\n",
    "            width_shift_range=0.2, #son rangos(una fraccion del total) dentro de los cuales se puede trasladar una figura aleatoreamente\n",
    "            height_shift_range=0.2, \n",
    "            zoom_range=0.2, \n",
    "            horizontal_flip=True, #Voltear aleatoriamente las entradas horizontalmente\n",
    "            vertical_flip=True, \n",
    "            fill_mode='nearest') #nearest #reflect constant\n",
    "#Note que los datos de validacion no deben ser aumentados!!!\n",
    "test_datagen = ImageDataGenerator(rescale=1./255)\n"
   ]
  },
  {
   "cell_type": "code",
   "execution_count": 10,
   "metadata": {},
   "outputs": [
    {
     "name": "stdout",
     "output_type": "stream",
     "text": [
      "Found 4664 images belonging to 15 classes.\n",
      "Found 591 images belonging to 15 classes.\n"
     ]
    }
   ],
   "source": [
    "#Generar datos por el metodo flow_from_directory de la clase ImageDataGenerator\n",
    "train_generator = train_datagen.flow_from_directory(\n",
    "    train_dir,# Este es el directorio objetivo\n",
    "    target_size=(IMG_ALTO, IMG_ANCHO), # Tamaño de las imágenes (serán redimensionadas)\n",
    "    batch_size=LOTE_SIZE, #tamaño de los lotes de datos (cantidad de imagenes generadas)\n",
    "    #save_to_dir=os.getcwd() + '/base_datos/AumenTrain/',\n",
    "    class_mode='categorical') # Como usamos la funcion de pérdida categorical_crossentropy, necesitamos etiquetas categorical\n",
    "    #categorical --> will be 2D one-hot encoded labels\n",
    "    #produce lotes de imágenes RGB de 150x150 (forma (32, 150, 150, 3)) y etiquetas 2D one-hot  (forma (32,))\n",
    "#Datos de validacion\n",
    "validation_generator = test_datagen.flow_from_directory(\n",
    "    validacion_dir,\n",
    "    target_size=(IMG_ALTO, IMG_ANCHO),\n",
    "    batch_size=LOTE_SIZE,\n",
    "    #save_to_dir=os.getcwd() + '/base_datos/AumenVal/',\n",
    "    class_mode='categorical')"
   ]
  },
  {
   "cell_type": "code",
   "execution_count": 11,
   "metadata": {},
   "outputs": [
    {
     "data": {
      "text/plain": [
       "4664"
      ]
     },
     "execution_count": 11,
     "metadata": {},
     "output_type": "execute_result"
    }
   ],
   "source": [
    "total_imagenes = visualPavLib.contar_Imagenes('/home/ximena/tesis/VisualPav/base_datos/train/')\n",
    "total_imagenes"
   ]
  },
  {
   "cell_type": "code",
   "execution_count": 13,
   "metadata": {},
   "outputs": [
    {
     "name": "stdout",
     "output_type": "stream",
     "text": [
      "Epoch 1/30\n",
      "146/146 [==============================] - 59s 404ms/step - loss: 2.5278 - acc: 0.2043 - val_loss: 2.6647 - val_acc: 0.2566\n",
      "Epoch 2/30\n",
      "146/146 [==============================] - 54s 370ms/step - loss: 2.3123 - acc: 0.2613 - val_loss: 2.1210 - val_acc: 0.2970\n",
      "Epoch 3/30\n",
      "146/146 [==============================] - 55s 378ms/step - loss: 2.2067 - acc: 0.2952 - val_loss: 2.0365 - val_acc: 0.3033\n",
      "Epoch 4/30\n",
      "146/146 [==============================] - 55s 373ms/step - loss: 2.0819 - acc: 0.3353 - val_loss: 1.7816 - val_acc: 0.4244\n",
      "Epoch 5/30\n",
      "146/146 [==============================] - 55s 379ms/step - loss: 1.9819 - acc: 0.3786 - val_loss: 1.7317 - val_acc: 0.4825\n",
      "Epoch 6/30\n",
      "146/146 [==============================] - 55s 380ms/step - loss: 1.8844 - acc: 0.4050 - val_loss: 1.7109 - val_acc: 0.4471\n",
      "Epoch 7/30\n",
      "146/146 [==============================] - 54s 372ms/step - loss: 1.8293 - acc: 0.4147 - val_loss: 1.5927 - val_acc: 0.5184\n",
      "Epoch 8/30\n",
      "146/146 [==============================] - 56s 382ms/step - loss: 1.7701 - acc: 0.4403 - val_loss: 1.5824 - val_acc: 0.5080\n",
      "Epoch 9/30\n",
      "146/146 [==============================] - 56s 383ms/step - loss: 1.7023 - acc: 0.4613 - val_loss: 1.6840 - val_acc: 0.4600\n",
      "Epoch 10/30\n",
      "146/146 [==============================] - 53s 363ms/step - loss: 1.7000 - acc: 0.4663 - val_loss: 1.4759 - val_acc: 0.5483\n",
      "Epoch 11/30\n",
      "146/146 [==============================] - 55s 379ms/step - loss: 1.6137 - acc: 0.4779 - val_loss: 1.7113 - val_acc: 0.5140\n",
      "Epoch 12/30\n",
      "146/146 [==============================] - 53s 366ms/step - loss: 1.6478 - acc: 0.4724 - val_loss: 1.4457 - val_acc: 0.5154\n",
      "Epoch 13/30\n",
      "146/146 [==============================] - 58s 399ms/step - loss: 1.5868 - acc: 0.4951 - val_loss: 1.3654 - val_acc: 0.5832\n",
      "Epoch 14/30\n",
      "146/146 [==============================] - 56s 385ms/step - loss: 1.5394 - acc: 0.5136 - val_loss: 1.3805 - val_acc: 0.5691\n",
      "Epoch 15/30\n",
      "146/146 [==============================] - 55s 376ms/step - loss: 1.5316 - acc: 0.5109 - val_loss: 1.3303 - val_acc: 0.5642\n",
      "Epoch 16/30\n",
      "146/146 [==============================] - 56s 382ms/step - loss: 1.5096 - acc: 0.5255 - val_loss: 1.3091 - val_acc: 0.6231\n",
      "Epoch 17/30\n",
      "146/146 [==============================] - 53s 364ms/step - loss: 1.5031 - acc: 0.5218 - val_loss: 1.4873 - val_acc: 0.5313\n",
      "Epoch 18/30\n",
      "146/146 [==============================] - 57s 388ms/step - loss: 1.4952 - acc: 0.5231 - val_loss: 1.6553 - val_acc: 0.4222\n",
      "Epoch 19/30\n",
      "146/146 [==============================] - 53s 365ms/step - loss: 1.4923 - acc: 0.5330 - val_loss: 1.4797 - val_acc: 0.5454\n",
      "Epoch 20/30\n",
      "146/146 [==============================] - 54s 369ms/step - loss: 1.4595 - acc: 0.5361 - val_loss: 1.4965 - val_acc: 0.5313\n",
      "Epoch 21/30\n",
      "146/146 [==============================] - 54s 370ms/step - loss: 1.4501 - acc: 0.5452 - val_loss: 1.3901 - val_acc: 0.5907\n",
      "Epoch 22/30\n",
      "146/146 [==============================] - 53s 366ms/step - loss: 1.4442 - acc: 0.5373 - val_loss: 1.4148 - val_acc: 0.5875\n",
      "Epoch 23/30\n",
      "146/146 [==============================] - 56s 384ms/step - loss: 1.4121 - acc: 0.5553 - val_loss: 1.1996 - val_acc: 0.6210\n",
      "Epoch 24/30\n",
      "146/146 [==============================] - 53s 363ms/step - loss: 1.4535 - acc: 0.5419 - val_loss: 1.3078 - val_acc: 0.6023\n",
      "Epoch 25/30\n",
      "146/146 [==============================] - 58s 395ms/step - loss: 1.4080 - acc: 0.5517 - val_loss: 1.3815 - val_acc: 0.5853\n",
      "Epoch 26/30\n",
      "146/146 [==============================] - 56s 381ms/step - loss: 1.3905 - acc: 0.5596 - val_loss: 1.2237 - val_acc: 0.6123\n",
      "Epoch 27/30\n",
      "146/146 [==============================] - 54s 367ms/step - loss: 1.4142 - acc: 0.5690 - val_loss: 1.8225 - val_acc: 0.4984\n",
      "Epoch 28/30\n",
      "146/146 [==============================] - 56s 382ms/step - loss: 1.4086 - acc: 0.5645 - val_loss: 1.3114 - val_acc: 0.6242\n",
      "Epoch 29/30\n",
      "146/146 [==============================] - 54s 372ms/step - loss: 1.4404 - acc: 0.5599 - val_loss: 1.2126 - val_acc: 0.6267\n",
      "Epoch 30/30\n",
      "146/146 [==============================] - 56s 385ms/step - loss: 1.4109 - acc: 0.5565 - val_loss: 1.4991 - val_acc: 0.5205\n"
     ]
    }
   ],
   "source": [
    "#Entrenar la red\n",
    "STEPS_PER_EPOCH = np.ceil(total_imagenes/LOTE_SIZE) ##cuántas muestras extraer del generador antes de declarar una época finalizada\n",
    "#STEPS_PER_EPOCH = 120\n",
    "history = model.fit_generator(\n",
    "    train_generator, #un generador Python que genere lotes de entradas y targets indefinidamente\n",
    "    steps_per_epoch=STEPS_PER_EPOCH, #100 #2000 #cuántas muestras extraer del generador antes de declarar una época finalizada\n",
    "    epochs= 30, #100,  #30, #50\n",
    "    validation_data=validation_generator,\n",
    "    validation_steps=30 ) #800"
   ]
  },
  {
   "cell_type": "code",
   "execution_count": 15,
   "metadata": {},
   "outputs": [
    {
     "data": {
      "image/png": "[encoded data removed]",
      "text/plain": [
       "<Figure size 432x288 with 1 Axes>"
      ]
     },
     "metadata": {
      "needs_background": "light"
     },
     "output_type": "display_data"
    },
    {
     "data": {
      "image/png": "[encoded data removed]",
      "text/plain": [
       "<Figure size 432x288 with 1 Axes>"
      ]
     },
     "metadata": {
      "needs_background": "light"
     },
     "output_type": "display_data"
    }
   ],
   "source": [
    "#graficar\n",
    "import matplotlib.pyplot as plt\n",
    "acc = history.history['acc']\n",
    "val_acc = history.history['val_acc']\n",
    "loss = history.history['loss']\n",
    "val_loss = history.history['val_loss']\n",
    "epochs = range(1, len(acc) + 1)\n",
    "plt.plot(epochs, acc, 'bo', label='Entrenamiento acc')\n",
    "plt.plot(epochs, val_acc, 'b', label='Validación acc')\n",
    "#plt.xlabel('Epochs'); plt.ylabel('acc')\n",
    "plt.title('Entrenamiento y validación (precisión acc)')\n",
    "plt.legend()\n",
    "plt.savefig(nombre+'.png') #guardar figura #plt.savefig('VGG16.png')\n",
    "\n",
    "plt.figure()\n",
    "plt.plot(epochs, loss, 'bo', label='Training loss')\n",
    "plt.plot(epochs, val_loss, 'b', label='Validation loss')\n",
    "plt.title('Entrenamiento y validación (función de perdida)')\n",
    "plt.legend()\n",
    "plt.savefig(nombre+'L.png') #guardar figura #plt.savefig('VGG16L.png')\n",
    "plt.show()"
   ]
  },
  {
   "cell_type": "code",
   "execution_count": 17,
   "metadata": {},
   "outputs": [
    {
     "name": "stdout",
     "output_type": "stream",
     "text": [
      "Found 585 images belonging to 15 classes.\n",
      "test acc: 0.5401015257472315   test loss: 1.531363712349519\n"
     ]
    }
   ],
   "source": [
    "#########################################################################\n",
    "# Evaluar el modelo cargado con los datos de test\n",
    "#########################################################################\n",
    "#Generar datos por el metodo flow_from_directory de la clase ImageDataGenerator\n",
    "#Datos de test\n",
    "test_generator = test_datagen.flow_from_directory(\n",
    "    test_dir,\n",
    "    target_size=(150, 150),\n",
    "    batch_size=20,\n",
    "    class_mode='categorical')\n",
    "#Evaluar el modelo con los datos de test\n",
    "test_loss, test_acc = model.evaluate_generator(test_generator, steps=50)\n",
    "print('test acc:', test_acc,'  test loss:', test_loss )"
   ]
  },
  {
   "cell_type": "code",
   "execution_count": 18,
   "metadata": {},
   "outputs": [],
   "source": [
    "#guardar un modelo \n",
    "model.save(nombre+'.h5') #model.save('conv_3.h5')"
   ]
  },
  {
   "cell_type": "code",
   "execution_count": 19,
   "metadata": {},
   "outputs": [],
   "source": [
    "#guardar el history para graficar despues\n",
    "import json\n",
    "with open(nombre+'History.json', 'w') as f:\n",
    "#with open('conv_3.json', 'w') as f:\n",
    "    json.dump(history.history, f)"
   ]
  },
  {
   "cell_type": "code",
   "execution_count": 20,
   "metadata": {},
   "outputs": [],
   "source": [
    "#guardar la precision de test\n",
    "import json\n",
    "with open(nombre+'Test.json', 'w') as f:\n",
    "#with open('VGG16Test.json', 'w') as f:\n",
    "    json.dump((test_loss, test_acc), f)"
   ]
  },
  {
   "cell_type": "code",
   "execution_count": null,
   "metadata": {},
   "outputs": [],
   "source": []
  }
 ],
 "metadata": {
  "kernelspec": {
   "display_name": "Python 3",
   "language": "python",
   "name": "python3"
  },
  "language_info": {
   "codemirror_mode": {
    "name": "ipython",
    "version": 3
   },
   "file_extension": ".py",
   "mimetype": "text/x-python",
   "name": "python",
   "nbconvert_exporter": "python",
   "pygments_lexer": "ipython3",
   "version": "3.5.2"
  }
 },
 "nbformat": 4,
 "nbformat_minor": 2
}
