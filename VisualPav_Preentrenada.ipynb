{
 "cells": [
  {
   "cell_type": "code",
   "execution_count": 33,
   "metadata": {},
   "outputs": [],
   "source": [
    "#########################################################################\n",
    "# Usando una red convolucional preentrenada\n",
    "# Ejecutando la base convolucional sobre nuestro conjunto de datos \n",
    "#########################################################################\n",
    "#registrando su salida en una matriz Numpy \n",
    "#luego usando estos datos como entrada a un clasificador independiente densamente conectado \n",
    "#solo requiere ejecutar la base convolucional una vez para cada imagen de entrada, \n",
    "#solucion rapida y economica\n",
    "#esta técnica no nos permitiría aprovechar el aumento de datos.\n",
    "#Realizado por Ximena Rios- Universidad del Valle\n",
    "#########################################################################"
   ]
  },
  {
   "cell_type": "code",
   "execution_count": 34,
   "metadata": {},
   "outputs": [],
   "source": [
    "#Parametros generales\n",
    "IMG_ALTO = 150\n",
    "IMG_ANCHO =150\n",
    "LOTE_SIZE = 20 #tamaño de los lotes de datos\n",
    "\n",
    "#Definir los directorios de trabajo \n",
    "import os\n",
    "base_dir = os.getcwd() + '/base_datos/'\n",
    "train_dir = os.getcwd() + '/base_datos/train/'\n",
    "validacion_dir= os.getcwd() + '/base_datos/validacion/'\n",
    "test_dir = os.getcwd() + '/base_datos/test/'\n",
    "\n",
    "#Definir el nombre para guardar el modelos y los datos \n",
    "#nombre='Xception'\n",
    "#nombre='VGG16'\n",
    "nombre='VGG19'\n",
    "#nombre='ResNet50'\n",
    "#nombre='ResNetV2'\n",
    "#nombre='InceptionV3'\n",
    "#nombre='InceptionResNetV2'\n",
    "#nombre='MobileNet'\n",
    "#nombre='MobileNetV2'\n",
    "#nombre='DenseNet121'\n",
    "#nombre='NASNet'"
   ]
  },
  {
   "cell_type": "code",
   "execution_count": 35,
   "metadata": {},
   "outputs": [],
   "source": [
    "#crear una instancia de la base convolucional VGG16\n",
    "#from keras.applications import Xception\n",
    "#from keras.applications import VGG16\n",
    "from keras.applications import VGG19\n",
    "#from keras.applications import ResNet50\n",
    "#from keras.applications import ResNetV2\n",
    "#from keras.applications import InceptionV3\n",
    "#from keras.applications import InceptionResNetV2\n",
    "#from keras.applications import MobileNet\n",
    "#from keras.applications import MobileNetV2\n",
    "#from keras.applications import DenseNet121\n",
    "#from keras.applications import NASNet\n",
    "\n",
    "#conv_base = Xception(\n",
    "#conv_base = VGG16(\n",
    "#conv_base = VGG16(weights='imagenet',  #punto de control de peso inicializar el modelo\n",
    "conv_base = VGG19(\n",
    "#conv_base = ResNet50(\n",
    "#conv_base = ResNetV2(\n",
    "#conv_base = InceptionV3(\n",
    "#conv_base = InceptionResNetV2(\n",
    "#conv_base = MobileNet(\n",
    "#conv_base = MobileNetV2(\n",
    "#conv_base = DenseNet121( #DenseNet169 DenseNet201\n",
    "#conv_base = NASNet(\n",
    "    include_top=False, #No incluir la red densamente conectada\n",
    "    input_shape=(150, 150, 3)) #forma del tensor de entrada\n",
    "#https://keras.io/applications/"
   ]
  },
  {
   "cell_type": "code",
   "execution_count": 36,
   "metadata": {},
   "outputs": [
    {
     "name": "stdout",
     "output_type": "stream",
     "text": [
      "_________________________________________________________________\n",
      "Layer (type)                 Output Shape              Param #   \n",
      "=================================================================\n",
      "input_3 (InputLayer)         (None, 150, 150, 3)       0         \n",
      "_________________________________________________________________\n",
      "block1_conv1 (Conv2D)        (None, 150, 150, 64)      1792      \n",
      "_________________________________________________________________\n",
      "block1_conv2 (Conv2D)        (None, 150, 150, 64)      36928     \n",
      "_________________________________________________________________\n",
      "block1_pool (MaxPooling2D)   (None, 75, 75, 64)        0         \n",
      "_________________________________________________________________\n",
      "block2_conv1 (Conv2D)        (None, 75, 75, 128)       73856     \n",
      "_________________________________________________________________\n",
      "block2_conv2 (Conv2D)        (None, 75, 75, 128)       147584    \n",
      "_________________________________________________________________\n",
      "block2_pool (MaxPooling2D)   (None, 37, 37, 128)       0         \n",
      "_________________________________________________________________\n",
      "block3_conv1 (Conv2D)        (None, 37, 37, 256)       295168    \n",
      "_________________________________________________________________\n",
      "block3_conv2 (Conv2D)        (None, 37, 37, 256)       590080    \n",
      "_________________________________________________________________\n",
      "block3_conv3 (Conv2D)        (None, 37, 37, 256)       590080    \n",
      "_________________________________________________________________\n",
      "block3_conv4 (Conv2D)        (None, 37, 37, 256)       590080    \n",
      "_________________________________________________________________\n",
      "block3_pool (MaxPooling2D)   (None, 18, 18, 256)       0         \n",
      "_________________________________________________________________\n",
      "block4_conv1 (Conv2D)        (None, 18, 18, 512)       1180160   \n",
      "_________________________________________________________________\n",
      "block4_conv2 (Conv2D)        (None, 18, 18, 512)       2359808   \n",
      "_________________________________________________________________\n",
      "block4_conv3 (Conv2D)        (None, 18, 18, 512)       2359808   \n",
      "_________________________________________________________________\n",
      "block4_conv4 (Conv2D)        (None, 18, 18, 512)       2359808   \n",
      "_________________________________________________________________\n",
      "block4_pool (MaxPooling2D)   (None, 9, 9, 512)         0         \n",
      "_________________________________________________________________\n",
      "block5_conv1 (Conv2D)        (None, 9, 9, 512)         2359808   \n",
      "_________________________________________________________________\n",
      "block5_conv2 (Conv2D)        (None, 9, 9, 512)         2359808   \n",
      "_________________________________________________________________\n",
      "block5_conv3 (Conv2D)        (None, 9, 9, 512)         2359808   \n",
      "_________________________________________________________________\n",
      "block5_conv4 (Conv2D)        (None, 9, 9, 512)         2359808   \n",
      "_________________________________________________________________\n",
      "block5_pool (MaxPooling2D)   (None, 4, 4, 512)         0         \n",
      "=================================================================\n",
      "Total params: 20,024,384\n",
      "Trainable params: 20,024,384\n",
      "Non-trainable params: 0\n",
      "_________________________________________________________________\n"
     ]
    }
   ],
   "source": [
    "conv_base.summary()"
   ]
  },
  {
   "cell_type": "code",
   "execution_count": 37,
   "metadata": {},
   "outputs": [
    {
     "name": "stdout",
     "output_type": "stream",
     "text": [
      "Found 4664 images belonging to 15 classes.\n",
      "Found 591 images belonging to 15 classes.\n",
      "Found 585 images belonging to 15 classes.\n"
     ]
    }
   ],
   "source": [
    "#Extraer las carateristicas usando la base convolucional preentrenada\n",
    "##########################################################################\n",
    "#Ejecutando la base convolucional sobre nuestro conjunto de datos, \n",
    "#registrando su salida en una matriz Numpy \n",
    "#luego usando estos datos como entrada a un clasificador independiente densamente conectado \n",
    "#solo requiere ejecutar la base convolucional una vez para cada imagen de entrada, \n",
    "#solucion rapida y economica\n",
    "#esta técnica no nos permitiría aprovechar el aumento de datos.\n",
    "##########################################################################\n",
    "import numpy as np\n",
    "from keras.preprocessing.image import ImageDataGenerator\n",
    "#Crear una instancia de la clase ImageDataGenerator para el aumento de datos\n",
    "datagen = ImageDataGenerator(rescale=1./255)\n",
    "batch_size = 20\n",
    "#alto=5;ancho=5;canales=2048; #Xception datos de ultima capa de la conv base\n",
    "#alto=4;ancho=4;canales=512; #VGG16 datos de ultima capa de la conv base\n",
    "alto=4;ancho=4;canales=512; #VGG19 datos de ultima capa de la conv base\n",
    "#alto=5;ancho=5;canales=2048; #ResNet50 datos de ultima capa de la conv base\n",
    "#alto=3;ancho=3;canales=2048; #InceptionV3 datos de ultima capa de la conv base\n",
    "#alto=3;ancho=3;canales=1536; #InceptionResNetV2 datos de ultima capa de la conv base\n",
    "#alto=4;ancho=4;canales=1024; #DenseNet121 datos de ultima capa de la conv base\n",
    "\n",
    "def extract_features(directory, sample_count):\n",
    "    features = np.zeros(shape=(sample_count, alto, ancho, canales))\n",
    "    labels = np.zeros(shape=(sample_count,15))\n",
    "    generator = datagen.flow_from_directory(\n",
    "        directory,\n",
    "        target_size=(150, 150),\n",
    "        batch_size=batch_size,\n",
    "        class_mode='categorical')\n",
    "    i = 0\n",
    "    for inputs_batch, labels_batch in generator:\n",
    "        features_batch = conv_base.predict(inputs_batch)\n",
    "        features[i * batch_size : (i + 1) * batch_size] = features_batch\n",
    "        labels[i * batch_size : (i + 1) * batch_size] = labels_batch\n",
    "        i += 1\n",
    "        if i * batch_size >= sample_count:\n",
    "            # Note that since generators yield data indefinitely in a loop,\n",
    "            # we must `break` after every image has been seen once.\n",
    "            break\n",
    "    return features, labels\n",
    "\n",
    "train_features, train_labels = extract_features(train_dir, 4660)\n",
    "validation_features, validation_labels = extract_features(validacion_dir, 580)\n",
    "test_features, test_labels = extract_features(test_dir, 580)\n"
   ]
  },
  {
   "cell_type": "code",
   "execution_count": 38,
   "metadata": {},
   "outputs": [],
   "source": [
    "# Las caracteristicas obtenidas tienen la forma (samples,4,4,512) para VGG16\n",
    "#para alimentar un clasificador densamente conectado debemos primero aplanarlas\n",
    "train_features = np.reshape(train_features, (4660, alto * ancho * canales))\n",
    "validation_features = np.reshape(validation_features, (580, alto * ancho * canales))\n",
    "test_features = np.reshape(test_features, (580, alto * ancho * canales))"
   ]
  },
  {
   "cell_type": "code",
   "execution_count": 39,
   "metadata": {},
   "outputs": [],
   "source": [
    "#Definir el clasificador densamente conectado\n",
    "from keras import models\n",
    "from keras import layers\n",
    "model = models.Sequential()\n",
    "model.add(layers.Dense(256, activation='relu', input_dim=alto * ancho * canales))\n",
    "model.add(layers.Dropout(0.5))\n",
    "model.add(layers.Dense(15, activation='softmax'))\n",
    "#capa densa de tamaño 15. para cada entrada la red saca un vector de 15 dimensiones. cada entrada en este vector codifica una clase diferente de salida \n",
    "# activacion softmax significa que la red puede sacar una distribucion de probabilidad sobre 15 diferentes clases de salida"
   ]
  },
  {
   "cell_type": "code",
   "execution_count": 40,
   "metadata": {},
   "outputs": [],
   "source": [
    "#compilar\n",
    "from keras import optimizers\n",
    "model.compile(optimizer='rmsprop',\n",
    "    loss='categorical_crossentropy', #funcion de activacion para clasificacion multiclase\n",
    "    metrics=['acc'])  #categorical_crossentropy, espera que las etiquetas sigan una codificación categórica\n",
    "    #categorical--> will be 2D one-hot encoded labels"
   ]
  },
  {
   "cell_type": "code",
   "execution_count": 41,
   "metadata": {},
   "outputs": [
    {
     "name": "stdout",
     "output_type": "stream",
     "text": [
      "Train on 4660 samples, validate on 580 samples\n",
      "Epoch 1/30\n",
      "4660/4660 [==============================] - 2s 376us/step - loss: 2.3602 - acc: 0.2768 - val_loss: 1.8407 - val_acc: 0.4655\n",
      "Epoch 2/30\n",
      "4660/4660 [==============================] - 1s 253us/step - loss: 1.9791 - acc: 0.3691 - val_loss: 1.7484 - val_acc: 0.4362\n",
      "Epoch 3/30\n",
      "4660/4660 [==============================] - 1s 252us/step - loss: 1.8173 - acc: 0.4159 - val_loss: 1.5285 - val_acc: 0.5224\n",
      "Epoch 4/30\n",
      "4660/4660 [==============================] - 1s 252us/step - loss: 1.7362 - acc: 0.4412 - val_loss: 1.5321 - val_acc: 0.5172\n",
      "Epoch 5/30\n",
      "4660/4660 [==============================] - 1s 253us/step - loss: 1.6586 - acc: 0.4689 - val_loss: 1.5870 - val_acc: 0.4931\n",
      "Epoch 6/30\n",
      "4660/4660 [==============================] - 1s 258us/step - loss: 1.6018 - acc: 0.4893 - val_loss: 1.3766 - val_acc: 0.5690\n",
      "Epoch 7/30\n",
      "4660/4660 [==============================] - 1s 251us/step - loss: 1.5520 - acc: 0.5049 - val_loss: 1.2968 - val_acc: 0.6086\n",
      "Epoch 8/30\n",
      "4660/4660 [==============================] - 1s 255us/step - loss: 1.5385 - acc: 0.5139 - val_loss: 1.3194 - val_acc: 0.5879\n",
      "Epoch 9/30\n",
      "4660/4660 [==============================] - 1s 252us/step - loss: 1.4963 - acc: 0.5249 - val_loss: 1.3054 - val_acc: 0.6017\n",
      "Epoch 10/30\n",
      "4660/4660 [==============================] - 1s 252us/step - loss: 1.4639 - acc: 0.5193 - val_loss: 1.2473 - val_acc: 0.6241\n",
      "Epoch 11/30\n",
      "4660/4660 [==============================] - 1s 256us/step - loss: 1.4375 - acc: 0.5326 - val_loss: 1.3360 - val_acc: 0.5914\n",
      "Epoch 12/30\n",
      "4660/4660 [==============================] - 1s 254us/step - loss: 1.4009 - acc: 0.5530 - val_loss: 1.3174 - val_acc: 0.6155\n",
      "Epoch 13/30\n",
      "4660/4660 [==============================] - 1s 255us/step - loss: 1.3755 - acc: 0.5539 - val_loss: 1.2277 - val_acc: 0.6103\n",
      "Epoch 14/30\n",
      "4660/4660 [==============================] - 1s 252us/step - loss: 1.3844 - acc: 0.5547 - val_loss: 1.2912 - val_acc: 0.5845\n",
      "Epoch 15/30\n",
      "4660/4660 [==============================] - 1s 251us/step - loss: 1.3518 - acc: 0.5624 - val_loss: 1.3149 - val_acc: 0.6000\n",
      "Epoch 16/30\n",
      "4660/4660 [==============================] - 1s 253us/step - loss: 1.3555 - acc: 0.5614 - val_loss: 1.2820 - val_acc: 0.6103\n",
      "Epoch 17/30\n",
      "4660/4660 [==============================] - 1s 257us/step - loss: 1.3250 - acc: 0.5775 - val_loss: 1.2510 - val_acc: 0.6000\n",
      "Epoch 18/30\n",
      "4660/4660 [==============================] - 1s 253us/step - loss: 1.3144 - acc: 0.5800 - val_loss: 1.2631 - val_acc: 0.6276\n",
      "Epoch 19/30\n",
      "4660/4660 [==============================] - 1s 251us/step - loss: 1.2977 - acc: 0.5861 - val_loss: 1.2462 - val_acc: 0.6138\n",
      "Epoch 20/30\n",
      "4660/4660 [==============================] - 1s 253us/step - loss: 1.2901 - acc: 0.5839 - val_loss: 1.2422 - val_acc: 0.6121\n",
      "Epoch 21/30\n",
      "4660/4660 [==============================] - 1s 255us/step - loss: 1.2873 - acc: 0.5856 - val_loss: 1.3597 - val_acc: 0.6017\n",
      "Epoch 22/30\n",
      "4660/4660 [==============================] - 1s 251us/step - loss: 1.2659 - acc: 0.5888 - val_loss: 1.2605 - val_acc: 0.6069\n",
      "Epoch 23/30\n",
      "4660/4660 [==============================] - 1s 258us/step - loss: 1.2645 - acc: 0.6036 - val_loss: 1.3383 - val_acc: 0.6155\n",
      "Epoch 24/30\n",
      "4660/4660 [==============================] - 1s 254us/step - loss: 1.2288 - acc: 0.6109 - val_loss: 1.2858 - val_acc: 0.6103\n",
      "Epoch 25/30\n",
      "4660/4660 [==============================] - 1s 254us/step - loss: 1.2413 - acc: 0.5985 - val_loss: 1.2233 - val_acc: 0.6534\n",
      "Epoch 26/30\n",
      "4660/4660 [==============================] - 1s 254us/step - loss: 1.2484 - acc: 0.5974 - val_loss: 1.3179 - val_acc: 0.6155\n",
      "Epoch 27/30\n",
      "4660/4660 [==============================] - 1s 255us/step - loss: 1.2514 - acc: 0.6000 - val_loss: 1.2421 - val_acc: 0.6379\n",
      "Epoch 28/30\n",
      "4660/4660 [==============================] - 1s 258us/step - loss: 1.2397 - acc: 0.6041 - val_loss: 1.2376 - val_acc: 0.6241\n",
      "Epoch 29/30\n",
      "4660/4660 [==============================] - 1s 252us/step - loss: 1.2084 - acc: 0.6148 - val_loss: 1.2471 - val_acc: 0.6293\n",
      "Epoch 30/30\n",
      "4660/4660 [==============================] - 1s 252us/step - loss: 1.2200 - acc: 0.6170 - val_loss: 1.2994 - val_acc: 0.6328\n"
     ]
    }
   ],
   "source": [
    "#Entrenar la red\n",
    "history = model.fit(train_features, train_labels,\n",
    "    epochs=30,\n",
    "    batch_size=20,\n",
    "    validation_data=(validation_features, validation_labels))"
   ]
  },
  {
   "cell_type": "code",
   "execution_count": 44,
   "metadata": {},
   "outputs": [
    {
     "data": {
      "image/png": "[encoded data removed]",
      "text/plain": [
       "<Figure size 432x288 with 1 Axes>"
      ]
     },
     "metadata": {
      "needs_background": "light"
     },
     "output_type": "display_data"
    },
    {
     "data": {
      "image/png": "[encoded data removed]",
      "text/plain": [
       "<Figure size 432x288 with 1 Axes>"
      ]
     },
     "metadata": {
      "needs_background": "light"
     },
     "output_type": "display_data"
    }
   ],
   "source": [
    "#graficar\n",
    "import matplotlib.pyplot as plt\n",
    "acc = history.history['acc']\n",
    "val_acc = history.history['val_acc']\n",
    "loss = history.history['loss']\n",
    "val_loss = history.history['val_loss']\n",
    "epochs = range(1, len(acc) + 1)\n",
    "plt.plot(epochs, acc, 'bo', label='Training acc') #Entrenamiento acc\n",
    "plt.plot(epochs, val_acc, 'b', label='Validation acc') #Validación acc\n",
    "plt.title('Training and validation accuracy ('+nombre+')') # Entrenamiento y validación (precisión acc)\n",
    "plt.legend()\n",
    "plt.savefig(nombre+'Base.png') #guardar figura #plt.savefig('VGG16Base.png')\n",
    "\n",
    "plt.figure()\n",
    "plt.plot(epochs, loss, 'bo', label='Training loss')\n",
    "plt.plot(epochs, val_loss, 'b', label='Validation loss')\n",
    "plt.title('Training and validation loss ('+nombre+')') #Entrenamiento y validación (función de perdida)\n",
    "plt.legend()\n",
    "plt.savefig(nombre+'BaseL.png') #guardar figura #plt.savefig('VGG16BaseL.png')\n",
    "plt.show()\n",
    "##########################################################################\n",
    "# Alcanzamos una precisión de validación solo un poco mejor que en la sección anterior\n",
    "# Nuestras graficas indican que estamos sobreajustando casi desde el principio, \n",
    "# a pesar de usar dropout con una tasa bastante alta. \n",
    "# Esto se debe a que esta técnica no aprovecha el aumento de datos, \n",
    "# que es esencial para evitar el sobreajuste con conjuntos de datos de imágenes pequeñas.\n",
    "##########################################################################"
   ]
  },
  {
   "cell_type": "code",
   "execution_count": 45,
   "metadata": {},
   "outputs": [
    {
     "name": "stdout",
     "output_type": "stream",
     "text": [
      "50/50 [==============================] - 1s 12ms/step\n",
      "test acc: 0.5931034684181213   test loss: 1.4315603971481323\n"
     ]
    }
   ],
   "source": [
    "#########################################################################\n",
    "# Evaluar el modelo cargado con los datos de test\n",
    "#########################################################################\n",
    "#Evaluar el modelo con los datos de test\n",
    "test_loss, test_acc = model.evaluate(test_features, test_labels, steps=50)\n",
    "print('test acc:', test_acc,'  test loss:', test_loss )"
   ]
  },
  {
   "cell_type": "code",
   "execution_count": null,
   "metadata": {},
   "outputs": [],
   "source": []
  }
 ],
 "metadata": {
  "kernelspec": {
   "display_name": "Python 3",
   "language": "python",
   "name": "python3"
  },
  "language_info": {
   "codemirror_mode": {
    "name": "ipython",
    "version": 3
   },
   "file_extension": ".py",
   "mimetype": "text/x-python",
   "name": "python",
   "nbconvert_exporter": "python",
   "pygments_lexer": "ipython3",
   "version": "3.5.2"
  }
 },
 "nbformat": 4,
 "nbformat_minor": 2
}
